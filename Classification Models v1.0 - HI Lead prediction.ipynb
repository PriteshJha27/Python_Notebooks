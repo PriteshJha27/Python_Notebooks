{
 "cells": [
  {
   "cell_type": "markdown",
   "id": "0718ccd1",
   "metadata": {},
   "source": [
    "### Importing libraries"
   ]
  },
  {
   "cell_type": "code",
   "execution_count": null,
   "id": "9a58f67a",
   "metadata": {
    "scrolled": true
   },
   "outputs": [],
   "source": [
    "import numpy as np\n",
    "import pandas as pd\n",
    "import scipy as sp\n",
    "import seaborn as sns\n",
    "import matplotlib.pyplot as plt"
   ]
  },
  {
   "cell_type": "code",
   "execution_count": null,
   "id": "7346f3e1",
   "metadata": {
    "scrolled": true
   },
   "outputs": [],
   "source": [
    "import math\n",
    "import re\n",
    "import requests"
   ]
  },
  {
   "cell_type": "code",
   "execution_count": null,
   "id": "ef8bae0d",
   "metadata": {
    "scrolled": true
   },
   "outputs": [],
   "source": [
    "from scipy import stats"
   ]
  },
  {
   "cell_type": "code",
   "execution_count": null,
   "id": "43348221",
   "metadata": {},
   "outputs": [],
   "source": [
    "import matplotlib.ticker as ticker\n",
    "from matplotlib.ticker import NullFormatter\n",
    "from sklearn import preprocessing"
   ]
  },
  {
   "cell_type": "code",
   "execution_count": null,
   "id": "49fa25f4",
   "metadata": {},
   "outputs": [],
   "source": [
    "from sklearn.model_selection import train_test_split\n",
    "from sklearn.preprocessing import StandardScaler\n",
    "from sklearn.linear_model import LogisticRegression\n",
    "from sklearn import svm\n",
    "from sklearn.neighbors import KNeighborsClassifier\n",
    "from sklearn.tree import DecisionTreeClassifier\n",
    "from sklearn.ensemble import RandomForestClassifier\n",
    "from sklearn.naive_bayes import GaussianNB\n",
    "from xgboost import XGBClassifier\n",
    "from sklearn.svm import SVC\n",
    "from sklearn.ensemble import BaggingClassifier"
   ]
  },
  {
   "cell_type": "code",
   "execution_count": null,
   "id": "3677351c",
   "metadata": {},
   "outputs": [],
   "source": [
    "from sklearn.metrics import accuracy_score\n",
    "from sklearn.metrics import recall_score\n",
    "from sklearn.metrics import precision_score\n",
    "from sklearn.metrics import f1_score\n",
    "from sklearn.metrics import jaccard_score\n",
    "from sklearn.metrics import log_loss\n",
    "from sklearn.metrics import roc_auc_score\n",
    "from sklearn.metrics import classification_report, confusion_matrix\n",
    "from sklearn.metrics import ConfusionMatrixDisplay,plot_confusion_matrix\n",
    "from sklearn.model_selection import GridSearchCV\n",
    "import itertools"
   ]
  },
  {
   "cell_type": "code",
   "execution_count": null,
   "id": "d8fba8b5",
   "metadata": {
    "scrolled": true
   },
   "outputs": [],
   "source": [
    "import warnings\n",
    "warnings.filterwarnings('ignore')"
   ]
  },
  {
   "cell_type": "markdown",
   "id": "b22406eb",
   "metadata": {},
   "source": [
    "### Load Data :"
   ]
  },
  {
   "cell_type": "code",
   "execution_count": null,
   "id": "feba3799",
   "metadata": {
    "scrolled": true
   },
   "outputs": [],
   "source": [
    "df = pd.read_csv(r'D:\\Pritesh\\Inventories\\HI Lead prediction Challenge\\train.csv')"
   ]
  },
  {
   "cell_type": "code",
   "execution_count": null,
   "id": "0f3dcffd",
   "metadata": {
    "scrolled": true
   },
   "outputs": [],
   "source": [
    "df.head()"
   ]
  },
  {
   "cell_type": "code",
   "execution_count": null,
   "id": "c32ac78c",
   "metadata": {
    "scrolled": true
   },
   "outputs": [],
   "source": [
    "df.shape"
   ]
  },
  {
   "cell_type": "code",
   "execution_count": null,
   "id": "5f1060e9",
   "metadata": {
    "scrolled": true
   },
   "outputs": [],
   "source": [
    "df_validation = df[df['ID'] > 45000]\n",
    "df_validation.head()"
   ]
  },
  {
   "cell_type": "code",
   "execution_count": null,
   "id": "80c74e54",
   "metadata": {
    "scrolled": true
   },
   "outputs": [],
   "source": [
    "df_validation.shape"
   ]
  },
  {
   "cell_type": "code",
   "execution_count": null,
   "id": "1e5465e9",
   "metadata": {
    "scrolled": true
   },
   "outputs": [],
   "source": [
    "model_base = df.drop(index = df_validation.index, axis=0)\n",
    "model_base.head()"
   ]
  },
  {
   "cell_type": "code",
   "execution_count": null,
   "id": "47b87f56",
   "metadata": {
    "scrolled": true
   },
   "outputs": [],
   "source": [
    "model_base.shape"
   ]
  },
  {
   "cell_type": "markdown",
   "id": "466c105e",
   "metadata": {},
   "source": [
    "### Event Rate on Base:"
   ]
  },
  {
   "cell_type": "code",
   "execution_count": null,
   "id": "a44cd691",
   "metadata": {
    "scrolled": true
   },
   "outputs": [],
   "source": [
    "# Check the event rate\n",
    "df_er = pd.DataFrame(model_base.Response.value_counts())\n",
    "df_er['Event Rate'] = (df_er['Response']/df_er['Response'].sum())*100\n",
    "df_er"
   ]
  },
  {
   "cell_type": "code",
   "execution_count": null,
   "id": "b05d2609",
   "metadata": {
    "scrolled": true
   },
   "outputs": [],
   "source": [
    "\n",
    "print('Event Rate of Lead generation is {}%'.format(len(model_base[model_base['Response'] == 1])/len(model_base)*100))"
   ]
  },
  {
   "cell_type": "code",
   "execution_count": null,
   "id": "e3f78ad7",
   "metadata": {
    "scrolled": true
   },
   "outputs": [],
   "source": [
    "# Conclusion 1 : Data is balanced"
   ]
  },
  {
   "cell_type": "markdown",
   "id": "1cae2dad",
   "metadata": {},
   "source": [
    "### Missing value treatment :"
   ]
  },
  {
   "cell_type": "code",
   "execution_count": null,
   "id": "fd91b071",
   "metadata": {
    "scrolled": true
   },
   "outputs": [],
   "source": [
    "model_base.isnull().sum()"
   ]
  },
  {
   "cell_type": "code",
   "execution_count": null,
   "id": "5b91b83b",
   "metadata": {
    "scrolled": true
   },
   "outputs": [],
   "source": [
    "df_mv = pd.DataFrame(data = model_base.isnull().sum(), columns=['Missing Values'])\n",
    "df_mv['Missing Value %'] = round(df_mv['Missing Values']/45000,2)*100\n",
    "\n",
    "df_mv"
   ]
  },
  {
   "cell_type": "code",
   "execution_count": null,
   "id": "9b19c4bb",
   "metadata": {
    "scrolled": true
   },
   "outputs": [],
   "source": [
    "model_base.columns"
   ]
  },
  {
   "cell_type": "code",
   "execution_count": null,
   "id": "69f5f627",
   "metadata": {
    "scrolled": true
   },
   "outputs": [],
   "source": [
    "len(model_base['Region_Code'].unique())"
   ]
  },
  {
   "cell_type": "code",
   "execution_count": null,
   "id": "8349feb7",
   "metadata": {
    "scrolled": true
   },
   "outputs": [],
   "source": [
    "model_base.drop(columns = ['ID','Region_Code'], axis=1, inplace=True)"
   ]
  },
  {
   "cell_type": "code",
   "execution_count": null,
   "id": "699ed0d5",
   "metadata": {
    "scrolled": true
   },
   "outputs": [],
   "source": [
    "model_base.head()"
   ]
  },
  {
   "cell_type": "markdown",
   "id": "70b5c7a1",
   "metadata": {},
   "source": [
    "##### Numerical variables:"
   ]
  },
  {
   "cell_type": "code",
   "execution_count": null,
   "id": "dbc26512",
   "metadata": {
    "scrolled": true
   },
   "outputs": [],
   "source": [
    "#1 Holding_Policy_Type :"
   ]
  },
  {
   "cell_type": "code",
   "execution_count": null,
   "id": "1531ace0",
   "metadata": {
    "scrolled": true
   },
   "outputs": [],
   "source": [
    "model_base['Holding_Policy_Type'].describe()"
   ]
  },
  {
   "cell_type": "code",
   "execution_count": null,
   "id": "b0a87d74",
   "metadata": {
    "scrolled": true
   },
   "outputs": [],
   "source": [
    "model_base['Holding_Policy_Type'].replace(np.nan,model_base['Holding_Policy_Type'].mode()[0],inplace=True)"
   ]
  },
  {
   "cell_type": "code",
   "execution_count": null,
   "id": "df074706",
   "metadata": {
    "scrolled": true
   },
   "outputs": [],
   "source": [
    "#2 Holding_Policy_Duration"
   ]
  },
  {
   "cell_type": "code",
   "execution_count": null,
   "id": "4fcf33fa",
   "metadata": {
    "scrolled": true
   },
   "outputs": [],
   "source": [
    "model_base['Holding_Policy_Duration'].value_counts()"
   ]
  },
  {
   "cell_type": "code",
   "execution_count": null,
   "id": "874e6c73",
   "metadata": {
    "scrolled": true
   },
   "outputs": [],
   "source": [
    "model_base['Holding_Policy_Duration'].replace('14+','15.0',inplace=True)"
   ]
  },
  {
   "cell_type": "code",
   "execution_count": null,
   "id": "c61ce0a6",
   "metadata": {
    "scrolled": true
   },
   "outputs": [],
   "source": [
    "model_base.drop(columns=['Holding_Policy_Duration'],axis=1,inplace=True)"
   ]
  },
  {
   "cell_type": "code",
   "execution_count": null,
   "id": "8a20b158",
   "metadata": {
    "scrolled": true
   },
   "outputs": [],
   "source": [
    "#3 Health Indicator"
   ]
  },
  {
   "cell_type": "code",
   "execution_count": null,
   "id": "5d9f9dfe",
   "metadata": {
    "scrolled": true
   },
   "outputs": [],
   "source": [
    "model_base['Health Indicator'].value_counts()"
   ]
  },
  {
   "cell_type": "code",
   "execution_count": null,
   "id": "9d38d3ee",
   "metadata": {
    "scrolled": true
   },
   "outputs": [],
   "source": [
    "model_base.dropna(subset=['Health Indicator'],axis=0,inplace=True)"
   ]
  },
  {
   "cell_type": "code",
   "execution_count": null,
   "id": "9b22914a",
   "metadata": {
    "scrolled": true
   },
   "outputs": [],
   "source": [
    "model_base.isnull().sum()"
   ]
  },
  {
   "cell_type": "code",
   "execution_count": null,
   "id": "be5243b3",
   "metadata": {
    "scrolled": true
   },
   "outputs": [],
   "source": [
    "# All the missing values have been treated"
   ]
  },
  {
   "cell_type": "markdown",
   "id": "f2008407",
   "metadata": {},
   "source": [
    "### Outlier treatment"
   ]
  },
  {
   "cell_type": "code",
   "execution_count": null,
   "id": "0e6b4394",
   "metadata": {
    "scrolled": true
   },
   "outputs": [],
   "source": [
    "#Drop City_Code\n",
    "model_base.drop(columns=['City_Code'],axis=1, inplace=True)"
   ]
  },
  {
   "cell_type": "code",
   "execution_count": null,
   "id": "17ad93c7",
   "metadata": {
    "scrolled": true
   },
   "outputs": [],
   "source": [
    "model_base.head()"
   ]
  },
  {
   "cell_type": "code",
   "execution_count": null,
   "id": "f5dfc861",
   "metadata": {
    "scrolled": true
   },
   "outputs": [],
   "source": [
    "def dist_box(data):\n",
    " # function plots a combined graph for univariate analysis of continous variable \n",
    " #to check spread, central tendency , dispersion and outliers  \n",
    "    Name=data.name.upper()\n",
    "    fig,(ax_box,ax_dis)  =plt.subplots(nrows=2,sharex=True,gridspec_kw = {\"height_ratios\": (.25, .75)},figsize=(8, 5))\n",
    "    mean=data.mean()\n",
    "    median=data.median()\n",
    "    mode=data.mode().tolist()[0]\n",
    "    sns.set_theme(style=\"white\")\n",
    "    fig.suptitle(\"SPREAD OF DATA FOR \"+ Name  , fontsize=18, fontweight='bold')\n",
    "    sns.boxplot(x=data,showmeans=True, orient='h',color=\"teal\",ax=ax_box)\n",
    "    ax_box.set(xlabel='')\n",
    "     # just trying to make visualisation better. This will set background to white\n",
    "    sns.despine(top=True,right=True,left=True) # to remove side line from graph\n",
    "    sns.distplot(data,kde=False,color='purple',ax=ax_dis)\n",
    "    ax_dis.axvline(mean, color='r', linestyle='--',linewidth=2)\n",
    "    ax_dis.axvline(median, color='g', linestyle='-',linewidth=2)\n",
    "    ax_dis.axvline(mode, color='y', linestyle='-',linewidth=2)\n",
    "    plt.legend({'Mean':mean,'Median':median,'Mode':mode})"
   ]
  },
  {
   "cell_type": "code",
   "execution_count": null,
   "id": "1a2d408b",
   "metadata": {
    "scrolled": true
   },
   "outputs": [],
   "source": [
    "dist_box(model_base['Reco_Policy_Premium'])"
   ]
  },
  {
   "cell_type": "code",
   "execution_count": null,
   "id": "ad4bbf7b",
   "metadata": {
    "scrolled": true
   },
   "outputs": [],
   "source": [
    "# Reco_Policy_Premium has outliers."
   ]
  },
  {
   "cell_type": "code",
   "execution_count": null,
   "id": "07d39716",
   "metadata": {
    "scrolled": true
   },
   "outputs": [],
   "source": [
    "QL = model_base['Reco_Policy_Premium'].quantile(0.01)\n",
    "QH = model_base['Reco_Policy_Premium'].quantile(0.99)"
   ]
  },
  {
   "cell_type": "code",
   "execution_count": null,
   "id": "c4166e3d",
   "metadata": {
    "scrolled": true
   },
   "outputs": [],
   "source": [
    "def outlier_imputation(x):\n",
    "    if x < QL:\n",
    "        return QL\n",
    "    elif x > QH:\n",
    "        return QH\n",
    "    else:\n",
    "        return x"
   ]
  },
  {
   "cell_type": "code",
   "execution_count": null,
   "id": "3a969122",
   "metadata": {
    "scrolled": true
   },
   "outputs": [],
   "source": [
    "model_base['Reco_Policy_Premium'] = model_base['Reco_Policy_Premium'].apply(outlier_imputation)"
   ]
  },
  {
   "cell_type": "code",
   "execution_count": null,
   "id": "50477d97",
   "metadata": {
    "scrolled": true
   },
   "outputs": [],
   "source": [
    "model_base.head()"
   ]
  },
  {
   "cell_type": "markdown",
   "id": "8760e615",
   "metadata": {},
   "source": [
    "#### Processing Categorical variables:"
   ]
  },
  {
   "cell_type": "code",
   "execution_count": null,
   "id": "82812175",
   "metadata": {
    "scrolled": true
   },
   "outputs": [],
   "source": [
    "num_vars = [i for i in model_base.columns if model_base[i].dtype != 'object']\n",
    "cat_vars = [i for i in model_base.columns if model_base[i].dtype == 'object']"
   ]
  },
  {
   "cell_type": "code",
   "execution_count": null,
   "id": "25a696c4",
   "metadata": {
    "scrolled": true
   },
   "outputs": [],
   "source": [
    "# Bivariates in cat vars\n",
    "\n",
    "## Function to plot stacked bar chart\n",
    "def stacked_plot(x):\n",
    "    sns.set_palette(sns.color_palette(\"nipy_spectral\", 8))\n",
    "    tab1 = pd.crosstab(x,model_base['Response'],margins=True)\n",
    "    print(tab1)\n",
    "    print('-'*120)\n",
    "    tab = pd.crosstab(x,model_base['Response'],normalize='index')\n",
    "    tab.plot(kind='bar',stacked=True,figsize=(7,4))\n",
    "    plt.xticks(rotation=360)\n",
    "    labels=[\"No\",\"Yes\"]\n",
    "    plt.legend(loc='lower left', frameon=False,)\n",
    "    plt.legend(loc=\"upper left\", labels=labels,title=\"Response\",bbox_to_anchor=(1,1))\n",
    "    sns.despine(top=True,right=True,left=True) # to remove side line from graph\n",
    "    #plt.legend(labels)\n",
    "    plt.show()"
   ]
  },
  {
   "cell_type": "code",
   "execution_count": null,
   "id": "1433776a",
   "metadata": {
    "scrolled": true
   },
   "outputs": [],
   "source": [
    "for i, variable in enumerate(cat_vars):\n",
    "       stacked_plot(model_base[variable])"
   ]
  },
  {
   "cell_type": "markdown",
   "id": "58419a7f",
   "metadata": {},
   "source": [
    "### Feature Selection:"
   ]
  },
  {
   "cell_type": "code",
   "execution_count": null,
   "id": "a402cf1f",
   "metadata": {
    "scrolled": true
   },
   "outputs": [],
   "source": [
    "# Encoding the Categorical Variables"
   ]
  },
  {
   "cell_type": "code",
   "execution_count": null,
   "id": "eac45054",
   "metadata": {
    "scrolled": true
   },
   "outputs": [],
   "source": [
    "model_base.head()"
   ]
  },
  {
   "cell_type": "code",
   "execution_count": null,
   "id": "ffb50278",
   "metadata": {
    "scrolled": true
   },
   "outputs": [],
   "source": [
    "model_base['Health Indicator'].value_counts()"
   ]
  },
  {
   "cell_type": "code",
   "execution_count": null,
   "id": "4370834b",
   "metadata": {
    "scrolled": true
   },
   "outputs": [],
   "source": [
    "# Label Encoder on Health Indicator:"
   ]
  },
  {
   "cell_type": "code",
   "execution_count": null,
   "id": "c8ab6d79",
   "metadata": {
    "scrolled": true
   },
   "outputs": [],
   "source": [
    "model_base['Health Indicator'] = model_base['Health Indicator'].astype('category')"
   ]
  },
  {
   "cell_type": "code",
   "execution_count": null,
   "id": "e6292b0f",
   "metadata": {
    "scrolled": true
   },
   "outputs": [],
   "source": [
    "model_base['Health Indicator _cat'] = model_base['Health Indicator'].cat.codes"
   ]
  },
  {
   "cell_type": "code",
   "execution_count": null,
   "id": "cd2cfffb",
   "metadata": {
    "scrolled": true
   },
   "outputs": [],
   "source": [
    "from sklearn.preprocessing import LabelEncoder"
   ]
  },
  {
   "cell_type": "code",
   "execution_count": null,
   "id": "35c1d799",
   "metadata": {
    "scrolled": true
   },
   "outputs": [],
   "source": [
    "labelencoder = LabelEncoder()"
   ]
  },
  {
   "cell_type": "code",
   "execution_count": null,
   "id": "7a2a3f18",
   "metadata": {
    "scrolled": true
   },
   "outputs": [],
   "source": [
    "model_base['Health Indicator _cat'] = labelencoder.fit_transform(model_base['Health Indicator'])"
   ]
  },
  {
   "cell_type": "code",
   "execution_count": null,
   "id": "13cf72cc",
   "metadata": {
    "scrolled": true
   },
   "outputs": [],
   "source": [
    "model_base.head()"
   ]
  },
  {
   "cell_type": "code",
   "execution_count": null,
   "id": "7f4f84a4",
   "metadata": {
    "scrolled": true
   },
   "outputs": [],
   "source": [
    "model_base['Health Indicator'].value_counts()"
   ]
  },
  {
   "cell_type": "code",
   "execution_count": null,
   "id": "791e9403",
   "metadata": {
    "scrolled": true
   },
   "outputs": [],
   "source": [
    "model_base.groupby(['Health Indicator'])['Health Indicator _cat'].mean()"
   ]
  },
  {
   "cell_type": "code",
   "execution_count": null,
   "id": "d160cb33",
   "metadata": {
    "scrolled": true
   },
   "outputs": [],
   "source": [
    "model_base.head(2)"
   ]
  },
  {
   "cell_type": "code",
   "execution_count": null,
   "id": "bd6f1093",
   "metadata": {
    "scrolled": true
   },
   "outputs": [],
   "source": [
    "model_base.drop(columns=['Health Indicator'], axis=1, inplace=True)"
   ]
  },
  {
   "cell_type": "code",
   "execution_count": null,
   "id": "85f5c41f",
   "metadata": {
    "scrolled": true
   },
   "outputs": [],
   "source": [
    "#One Hot Encoder:"
   ]
  },
  {
   "cell_type": "code",
   "execution_count": null,
   "id": "925192d8",
   "metadata": {
    "scrolled": true
   },
   "outputs": [],
   "source": [
    "cat_vars_2 = ['Accomodation_Type','Reco_Insurance_Type','Is_Spouse']"
   ]
  },
  {
   "cell_type": "code",
   "execution_count": null,
   "id": "ae3266cc",
   "metadata": {
    "scrolled": true
   },
   "outputs": [],
   "source": [
    "for var in cat_vars_2:\n",
    "    cat_list = 'var'+'_'+var\n",
    "    cat_list = pd.get_dummies(model_base[var],prefix=var)\n",
    "    model_base = model_base.join(cat_list)\n",
    "\n",
    "model_base.drop(cat_vars_2, axis=1, inplace=True)"
   ]
  },
  {
   "cell_type": "code",
   "execution_count": null,
   "id": "f5ea27cf",
   "metadata": {},
   "outputs": [],
   "source": [
    "model_base.head()"
   ]
  },
  {
   "cell_type": "code",
   "execution_count": null,
   "id": "bd0f07f9",
   "metadata": {
    "scrolled": true
   },
   "outputs": [],
   "source": [
    "# List of final Model Variables :\n",
    "\n",
    "vars_final = ['Upper_Age','Lower_Age','Holding_Policy_Type','Reco_Policy_Cat','Reco_Policy_Premium','Response',\n",
    "              'Health Indicator','Accomodation_Type','Reco_Insurance_Type','Is_Spouse']"
   ]
  },
  {
   "cell_type": "markdown",
   "id": "0cecce91",
   "metadata": {},
   "source": [
    "### Entropy and Information gain :"
   ]
  },
  {
   "cell_type": "code",
   "execution_count": null,
   "id": "71220ee3",
   "metadata": {},
   "outputs": [],
   "source": [
    "def calc_entropy(column):\n",
    "    \"\"\"\n",
    "    Calculate entropy given a pandas series, list, or numpy array.\n",
    "    \"\"\"\n",
    "    # Compute the counts of each unique value in the column\n",
    "    counts = np.bincount(column)\n",
    "    # Divide by the total column length to get a probability\n",
    "    probabilities = counts / len(column)\n",
    "    \n",
    "    # Initialize the entropy to 0\n",
    "    entropy = 0\n",
    "    # Loop through the probabilities, and add each one to the total entropy\n",
    "    for prob in probabilities:\n",
    "        if prob > 0:\n",
    "            # use log from math and set base to 2\n",
    "            entropy += prob * math.log(prob, 2)\n",
    "    \n",
    "    return -entropy"
   ]
  },
  {
   "cell_type": "code",
   "execution_count": null,
   "id": "4ab5079c",
   "metadata": {},
   "outputs": [],
   "source": [
    "def calc_information_gain(data, split_name, target_name):\n",
    "    \"\"\"\n",
    "    Calculate information gain given a data set, column to split on, and target\n",
    "    \"\"\"\n",
    "    # Calculate the original entropy\n",
    "    original_entropy = calc_entropy(data[target_name])\n",
    "    \n",
    "    #Find the unique values in the column\n",
    "    values = data[split_name].unique()\n",
    "    \n",
    "    \n",
    "    # Make two subsets of the data, based on the unique values\n",
    "    left_split = data[data[split_name] == values[0]]\n",
    "    right_split = data[data[split_name] == values[1]]\n",
    "    \n",
    "    # Loop through the splits and calculate the subset entropies\n",
    "    to_subtract = 0\n",
    "    for subset in [left_split, right_split]:\n",
    "        prob = (subset.shape[0] / data.shape[0]) \n",
    "        to_subtract += prob * calc_entropy(subset[target_name])\n",
    "    \n",
    "    # Return information gain\n",
    "    return original_entropy - to_subtract"
   ]
  },
  {
   "cell_type": "code",
   "execution_count": null,
   "id": "ab744747",
   "metadata": {},
   "outputs": [],
   "source": []
  },
  {
   "cell_type": "markdown",
   "id": "74eb65d5",
   "metadata": {},
   "source": [
    "### Processing the validation set:"
   ]
  },
  {
   "cell_type": "code",
   "execution_count": null,
   "id": "a226abfe",
   "metadata": {
    "scrolled": true
   },
   "outputs": [],
   "source": [
    "df_validation = df_validation[vars_final]"
   ]
  },
  {
   "cell_type": "code",
   "execution_count": null,
   "id": "c6a3230f",
   "metadata": {},
   "outputs": [],
   "source": [
    "df_validation.head()"
   ]
  },
  {
   "cell_type": "code",
   "execution_count": null,
   "id": "84a52ed3",
   "metadata": {
    "scrolled": true
   },
   "outputs": [],
   "source": [
    "df_validation.isnull().sum()"
   ]
  },
  {
   "cell_type": "code",
   "execution_count": null,
   "id": "c0a5542b",
   "metadata": {
    "scrolled": true
   },
   "outputs": [],
   "source": [
    "df_validation.dropna(subset=['Health Indicator'],axis=0,inplace=True)"
   ]
  },
  {
   "cell_type": "code",
   "execution_count": null,
   "id": "4a26e625",
   "metadata": {
    "scrolled": true
   },
   "outputs": [],
   "source": [
    "df_validation['Holding_Policy_Type'].replace(np.nan,model_base['Holding_Policy_Type'].mode()[0],inplace=True)"
   ]
  },
  {
   "cell_type": "code",
   "execution_count": null,
   "id": "deade448",
   "metadata": {
    "scrolled": true
   },
   "outputs": [],
   "source": [
    "df_validation['Health Indicator _cat'] = labelencoder.fit_transform(df_validation['Health Indicator'])\n",
    "df_validation.drop(columns=['Health Indicator'],axis=1, inplace=True)"
   ]
  },
  {
   "cell_type": "code",
   "execution_count": null,
   "id": "715b0da1",
   "metadata": {
    "scrolled": true
   },
   "outputs": [],
   "source": [
    "for var in cat_vars_2:\n",
    "    cat_list = 'var'+'_'+var\n",
    "    cat_list = pd.get_dummies(df_validation[var],prefix=var)\n",
    "    df_validation = df_validation.join(cat_list)\n",
    "\n",
    "df_validation.drop(cat_vars_2, axis=1, inplace=True)"
   ]
  },
  {
   "cell_type": "markdown",
   "id": "a3d923bc",
   "metadata": {},
   "source": [
    "### Model Development:"
   ]
  },
  {
   "cell_type": "code",
   "execution_count": null,
   "id": "59b30a42",
   "metadata": {},
   "outputs": [],
   "source": [
    "# Train Test Split:"
   ]
  },
  {
   "cell_type": "code",
   "execution_count": null,
   "id": "472a05d2",
   "metadata": {},
   "outputs": [],
   "source": [
    "base = model_base.copy()\n",
    "y = base['Response'].values\n",
    "X = base.drop(columns=['Response'], axis=1)"
   ]
  },
  {
   "cell_type": "code",
   "execution_count": null,
   "id": "94523da1",
   "metadata": {},
   "outputs": [],
   "source": [
    "valid = df_validation.copy()\n",
    "y_val = valid['Response'].values\n",
    "X_val = valid.drop(columns=['Response'], axis=1)"
   ]
  },
  {
   "cell_type": "code",
   "execution_count": null,
   "id": "b6039a5b",
   "metadata": {},
   "outputs": [],
   "source": [
    "X_train, X_test, y_train, y_test = train_test_split(X, y, test_size=0.25,shuffle=True)"
   ]
  },
  {
   "cell_type": "code",
   "execution_count": null,
   "id": "a618a48c",
   "metadata": {},
   "outputs": [],
   "source": [
    "print('Training set : ',(X_train.shape,y_train.shape))\n",
    "print('Testing set : ',(X_test.shape,y_test.shape))"
   ]
  },
  {
   "cell_type": "code",
   "execution_count": null,
   "id": "11ed9a5c",
   "metadata": {},
   "outputs": [],
   "source": [
    "# Defining Functions for evaluation metrics:"
   ]
  },
  {
   "cell_type": "code",
   "execution_count": null,
   "id": "d97fd9c5",
   "metadata": {},
   "outputs": [],
   "source": [
    "def make_confusion_matrix(y_actual,y_predict,title):\n",
    "    '''Plot confusion matrix'''\n",
    "    fig, ax = plt.subplots(1, 1)\n",
    "    \n",
    "    cm = confusion_matrix(y_actual, y_predict, labels=[0,1])\n",
    "    disp = ConfusionMatrixDisplay(confusion_matrix=cm,\n",
    "                               display_labels=[\"No\",\"Yes\"])\n",
    "    disp.plot(cmap='Greens',colorbar=True,ax=ax)\n",
    "    \n",
    "    ax.set_title(title)\n",
    "    plt.tick_params(axis=u'both', which=u'both',length=0)\n",
    "    plt.grid(b=None,axis='both',which='both',visible=False)\n",
    "    plt.show()\n"
   ]
  },
  {
   "cell_type": "code",
   "execution_count": null,
   "id": "79a0aebe",
   "metadata": {},
   "outputs": [],
   "source": [
    "def get_metrics_score(model,X_train_df,X_test_df,y_train_pass,y_test_pass,X_val, y_val, flag=True):\n",
    "    '''\n",
    "    Function to calculate different metric scores of the model - Accuracy, Recall, Precision, and F1 score\n",
    "    model: classifier to predict values of X\n",
    "    train, test: Independent features\n",
    "    train_y,test_y: Dependent variable\n",
    "    threshold: thresold for classifiying the observation as 1\n",
    "    flag: If the flag is set to True then only the print statements showing different will be displayed. The default value is set to True.\n",
    "    roc: If the roc is set to True then only roc score will be displayed. The default value is set to False.\n",
    "    '''\n",
    "    # defining an empty list to store train and test results\n",
    "    score_list=[] \n",
    "    \n",
    "    pred_train = model.predict(X_train_df)\n",
    "    pred_test = model.predict(X_test_df)\n",
    "    pred_val = model.predict(X_val)\n",
    "    \n",
    "    \n",
    "    pred_train = np.round(pred_train)\n",
    "    pred_test = np.round(pred_test)\n",
    "    pred_val = np.round(pred_val)\n",
    "    \n",
    "    \n",
    "    train_acc = accuracy_score(y_train_pass,pred_train)\n",
    "    test_acc = accuracy_score(y_test_pass,pred_test)\n",
    "    val_acc = accuracy_score(y_val,pred_val)\n",
    "    \n",
    "    \n",
    "    train_recall = recall_score(y_train_pass,pred_train)\n",
    "    test_recall = recall_score(y_test_pass,pred_test)\n",
    "    val_recall = recall_score(y_val,pred_val)\n",
    "    \n",
    "    \n",
    "    train_precision = precision_score(y_train_pass,pred_train)\n",
    "    test_precision = precision_score(y_test_pass,pred_test)\n",
    "    val_precision = precision_score(y_val,pred_val)\n",
    "    \n",
    "    \n",
    "    train_f1 = f1_score(y_train_pass,pred_train)\n",
    "    test_f1 = f1_score(y_test_pass,pred_test)\n",
    "    val_f1 = f1_score(y_val,pred_val)\n",
    "    \n",
    "    train_auc = roc_auc_score(y_train_pass,pred_train)\n",
    "    test_auc = roc_auc_score(y_test_pass,pred_test)\n",
    "    val_auc = roc_auc_score(y_val,pred_val)\n",
    "    \n",
    "    \n",
    "    score_list.extend((train_acc,test_acc,val_acc, train_recall,test_recall, val_recall, train_precision,test_precision, val_precision,\n",
    "                       train_f1,test_f1,val_f1, train_auc, test_auc, val_auc))\n",
    "    \n",
    "    if flag == True: \n",
    "        metric_names = ['Train_Accuracy', 'Test_Accuracy','Val_Accuracy', 'Train_Recall', 'Test_Recall','Val_Recall','Train_Precision',\n",
    "                      'Test_Precision','Val_Precision', 'Train_F1-Score', 'Test_F1-Score','Val_F1-Score', 'Train_AUC_Score','Test_AUC_Score','Val_AUC_Score']\n",
    "        cols = ['Metric', 'Score']\n",
    "        records = [(name, score) for name, score in zip(metric_names, score_list)]\n",
    "        display(pd.DataFrame.from_records(records, columns=cols, index='Metric').T)\n",
    "        make_confusion_matrix(y_train_pass,pred_train,\"Confusion Matrix for Train set\")     \n",
    "        make_confusion_matrix(y_test_pass,pred_test,\"Confusion Matrix for Test set\")\n",
    "        make_confusion_matrix(y_val,pred_val,\"Confusion Matrix for Validation set\")\n",
    "        \n",
    "    return score_list # returning the list with train and test scores\n",
    "\n",
    "\n"
   ]
  },
  {
   "cell_type": "code",
   "execution_count": null,
   "id": "624519a4",
   "metadata": {},
   "outputs": [],
   "source": [
    "\n",
    "# # defining empty lists to add train and test results \n",
    "acc_train = []\n",
    "acc_test = []\n",
    "acc_val = []\n",
    "\n",
    "recall_train = []\n",
    "recall_test = []\n",
    "recall_val = []\n",
    "\n",
    "precision_train = []\n",
    "precision_test = []\n",
    "precision_val = []\n",
    "\n",
    "f1_train = []\n",
    "f1_test = []\n",
    "f1_val = []\n",
    "\n",
    "auc_train = []\n",
    "auc_test = []\n",
    "auc_val = []\n"
   ]
  },
  {
   "cell_type": "code",
   "execution_count": null,
   "id": "36eb248a",
   "metadata": {},
   "outputs": [],
   "source": [
    "\n",
    "def add_score_model(score):\n",
    "    '''add score of modelto list'''\n",
    "    acc_train.append(score[0])\n",
    "    acc_test.append(score[1])\n",
    "    acc_val.append(score[2])\n",
    "    \n",
    "    recall_train.append(score[3])\n",
    "    recall_test.append(score[4])\n",
    "    recall_val.append(score[5])\n",
    "    \n",
    "    precision_train.append(score[6])\n",
    "    precision_test.append(score[7])\n",
    "    precision_val.append(score[8])\n",
    "    \n",
    "    f1_train.append(score[9])\n",
    "    f1_test.append(score[10])\n",
    "    f1_val.append(score[11])\n",
    "    \n",
    "    auc_train.append(score[12])\n",
    "    auc_test.append(score[13])\n",
    "    auc_val.append(score[14])\n",
    "    "
   ]
  },
  {
   "cell_type": "code",
   "execution_count": null,
   "id": "238413f9",
   "metadata": {},
   "outputs": [],
   "source": []
  },
  {
   "cell_type": "markdown",
   "id": "d23ebf55",
   "metadata": {},
   "source": [
    "#### Logistic Regression:"
   ]
  },
  {
   "cell_type": "code",
   "execution_count": null,
   "id": "3ecb7106",
   "metadata": {},
   "outputs": [],
   "source": [
    "X_train, X_test, y_train, y_test = train_test_split(X, y, test_size=0.25,shuffle=True)"
   ]
  },
  {
   "cell_type": "code",
   "execution_count": null,
   "id": "6c4e8c7a",
   "metadata": {},
   "outputs": [],
   "source": [
    "X_train = np.asarray(X_train)\n",
    "y_train = np.asarray(y_train)"
   ]
  },
  {
   "cell_type": "code",
   "execution_count": null,
   "id": "1609af53",
   "metadata": {},
   "outputs": [],
   "source": [
    "# Normalize the dataset\n",
    "\n",
    "X_train = StandardScaler().fit(X_train).transform(X_train)\n",
    "X_train[0:2]"
   ]
  },
  {
   "cell_type": "code",
   "execution_count": null,
   "id": "7f580359",
   "metadata": {},
   "outputs": [],
   "source": [
    "LR = LogisticRegression(C=0.01, solver='liblinear').fit(X_train, y_train)\n",
    "LR"
   ]
  },
  {
   "cell_type": "code",
   "execution_count": null,
   "id": "8c046431",
   "metadata": {},
   "outputs": [],
   "source": [
    "y_pred_train = LR.predict(X_train)\n",
    "y_proba_train = LR.predict_proba(X_train)\n",
    "\n",
    "y_pred_test = LR.predict(X_test)\n",
    "y_proba_test = LR.predict_proba(X_test)\n",
    "\n",
    "y_pred_val = LR.predict(X_val)\n",
    "y_proba_val = LR.predict_proba(X_val)"
   ]
  },
  {
   "cell_type": "code",
   "execution_count": null,
   "id": "baf013e8",
   "metadata": {
    "scrolled": true
   },
   "outputs": [],
   "source": [
    "LR_score=get_metrics_score(LR,X_train,X_test,y_train,y_test, X_val, y_val)\n",
    "add_score_model(LR_score)"
   ]
  },
  {
   "cell_type": "markdown",
   "id": "10ab8cf0",
   "metadata": {},
   "source": [
    "#### Naive Bayes:"
   ]
  },
  {
   "cell_type": "code",
   "execution_count": null,
   "id": "eb642ac7",
   "metadata": {},
   "outputs": [],
   "source": [
    "GNB = GaussianNB().fit(X_train,y_train)"
   ]
  },
  {
   "cell_type": "code",
   "execution_count": null,
   "id": "d90067f4",
   "metadata": {},
   "outputs": [],
   "source": [
    "y_pred_train = GNB.predict(X_train)\n",
    "y_proba_train = GNB.predict_proba(X_train)\n",
    "\n",
    "y_pred_test = GNB.predict(X_test)\n",
    "y_proba_test = GNB.predict_proba(X_test)\n",
    "\n",
    "y_pred_val = GNB.predict(X_val)\n",
    "y_proba_val = GNB.predict_proba(X_val)"
   ]
  },
  {
   "cell_type": "code",
   "execution_count": null,
   "id": "2574b76d",
   "metadata": {},
   "outputs": [],
   "source": [
    "GNB_score=get_metrics_score(GNB,X_train,X_test,y_train,y_test, X_val, y_val)\n",
    "add_score_model(GNB_score)"
   ]
  },
  {
   "cell_type": "markdown",
   "id": "6f935954",
   "metadata": {},
   "source": [
    "#### KNN :"
   ]
  },
  {
   "cell_type": "code",
   "execution_count": null,
   "id": "19b1feee",
   "metadata": {},
   "outputs": [],
   "source": [
    "X_train, X_test, y_train, y_test = train_test_split(X, y, test_size=0.25,shuffle=True)"
   ]
  },
  {
   "cell_type": "code",
   "execution_count": null,
   "id": "ec49890b",
   "metadata": {},
   "outputs": [],
   "source": [
    "X_train = np.asarray(X_train)\n",
    "y_train = np.asarray(y_train)"
   ]
  },
  {
   "cell_type": "code",
   "execution_count": null,
   "id": "1609af53",
   "metadata": {},
   "outputs": [],
   "source": [
    "# Normalize the dataset\n",
    "\n",
    "X_train = StandardScaler().fit(X_train).transform(X_train)\n",
    "X_train[0:2]"
   ]
  },
  {
   "cell_type": "code",
   "execution_count": null,
   "id": "71cfdcff",
   "metadata": {},
   "outputs": [],
   "source": [
    "k = 4\n",
    "KNN = KNeighborsClassifier(n_neighbors = k).fit(X_train,y_train)"
   ]
  },
  {
   "cell_type": "code",
   "execution_count": null,
   "id": "8c046431",
   "metadata": {},
   "outputs": [],
   "source": [
    "y_pred_train = KNN.predict(X_train)\n",
    "y_proba_train = KNN.predict_proba(X_train)\n",
    "\n",
    "y_pred_test = KNN.predict(X_test)\n",
    "y_proba_test = KNN.predict_proba(X_test)\n",
    "\n",
    "y_pred_val = KNN.predict(X_val)\n",
    "y_proba_val = KNN.predict_proba(X_val)"
   ]
  },
  {
   "cell_type": "code",
   "execution_count": null,
   "id": "baf013e8",
   "metadata": {},
   "outputs": [],
   "source": [
    "KNN_score=get_metrics_score(KNN,X_train,X_test,y_train,y_test, X_val, y_val)\n",
    "add_score_model(KNN_score)"
   ]
  },
  {
   "cell_type": "markdown",
   "id": "1029345c",
   "metadata": {},
   "source": [
    "#### SVM:"
   ]
  },
  {
   "cell_type": "code",
   "execution_count": null,
   "id": "3ecb7106",
   "metadata": {},
   "outputs": [],
   "source": [
    "X_train, X_test, y_train, y_test = train_test_split(X, y, test_size=0.25,shuffle=True)"
   ]
  },
  {
   "cell_type": "code",
   "execution_count": null,
   "id": "6c4e8c7a",
   "metadata": {},
   "outputs": [],
   "source": [
    "X_train = np.asarray(X_train)\n",
    "y_train = np.asarray(y_train)"
   ]
  },
  {
   "cell_type": "code",
   "execution_count": null,
   "id": "1609af53",
   "metadata": {},
   "outputs": [],
   "source": [
    "# Normalize the dataset\n",
    "\n",
    "X_train = StandardScaler().fit(X_train).transform(X_train)\n",
    "X_train[0:2]"
   ]
  },
  {
   "cell_type": "code",
   "execution_count": null,
   "id": "0b792a63",
   "metadata": {},
   "outputs": [],
   "source": [
    "SVM = svm.SVC(kernel='rbf',probability=True)"
   ]
  },
  {
   "cell_type": "code",
   "execution_count": null,
   "id": "27371bac",
   "metadata": {},
   "outputs": [],
   "source": [
    "SVM.fit(X_train,y_train)"
   ]
  },
  {
   "cell_type": "code",
   "execution_count": null,
   "id": "8c046431",
   "metadata": {},
   "outputs": [],
   "source": [
    "y_pred_train = SVM.predict(X_train)\n",
    "y_proba_train = SVM.predict_proba(X_train)\n",
    "\n",
    "y_pred_test = SVM.predict(X_test)\n",
    "y_proba_test = SVM.predict_proba(X_test)\n",
    "\n",
    "y_pred_val = SVM.predict(X_val)\n",
    "y_proba_val = SVM.predict_proba(X_val)"
   ]
  },
  {
   "cell_type": "code",
   "execution_count": null,
   "id": "baf013e8",
   "metadata": {},
   "outputs": [],
   "source": [
    "SVM_score=get_metrics_score(SVM,X_train,X_test,y_train,y_test, X_val, y_val)\n",
    "add_score_model(SVM_score)"
   ]
  },
  {
   "cell_type": "markdown",
   "id": "5b2a3dea",
   "metadata": {},
   "source": [
    "#### Decision Trees:"
   ]
  },
  {
   "cell_type": "code",
   "execution_count": null,
   "id": "cd6e85a6",
   "metadata": {},
   "outputs": [],
   "source": [
    "DTree = DecisionTreeClassifier(criterion=\"entropy\", max_depth = 4)\n",
    "DTree.fit(X_train,y_train)"
   ]
  },
  {
   "cell_type": "code",
   "execution_count": null,
   "id": "8c046431",
   "metadata": {},
   "outputs": [],
   "source": [
    "y_pred_train = DTree.predict(X_train)\n",
    "y_proba_train = DTree.predict_proba(X_train)\n",
    "\n",
    "y_pred_test = DTree.predict(X_test)\n",
    "y_proba_test = DTree.predict_proba(X_test)\n",
    "\n",
    "y_pred_val = DTree.predict(X_val)\n",
    "y_proba_val = DTree.predict_proba(X_val)"
   ]
  },
  {
   "cell_type": "code",
   "execution_count": null,
   "id": "baf013e8",
   "metadata": {},
   "outputs": [],
   "source": [
    "DTree_score=get_metrics_score(DTree,X_train,X_test,y_train,y_test, X_val, y_val)\n",
    "add_score_model(DTree_score)"
   ]
  },
  {
   "cell_type": "markdown",
   "id": "1b478213",
   "metadata": {},
   "source": [
    "#### Random Forest:"
   ]
  },
  {
   "cell_type": "code",
   "execution_count": null,
   "id": "90be7b54",
   "metadata": {},
   "outputs": [],
   "source": [
    "RFC = RandomForestClassifier(max_depth=2, random_state=0)\n",
    "RFC.fit(X_train, y_train)"
   ]
  },
  {
   "cell_type": "code",
   "execution_count": null,
   "id": "8c046431",
   "metadata": {},
   "outputs": [],
   "source": [
    "y_pred_train = RFC.predict(X_train)\n",
    "y_proba_train = RFC.predict_proba(X_train)\n",
    "\n",
    "y_pred_test = RFC.predict(X_test)\n",
    "y_proba_test = RFC.predict_proba(X_test)\n",
    "\n",
    "y_pred_val = RFC.predict(X_val)\n",
    "y_proba_val = RFC.predict_proba(X_val)"
   ]
  },
  {
   "cell_type": "code",
   "execution_count": null,
   "id": "baf013e8",
   "metadata": {},
   "outputs": [],
   "source": [
    "RFC_score=get_metrics_score(RFC,X_train,X_test,y_train,y_test, X_val, y_val)\n",
    "add_score_model(RFC_score)"
   ]
  },
  {
   "cell_type": "markdown",
   "id": "a07184ef",
   "metadata": {},
   "source": [
    "#### XG Boost:"
   ]
  },
  {
   "cell_type": "code",
   "execution_count": null,
   "id": "40be648b",
   "metadata": {},
   "outputs": [],
   "source": [
    "XGB = XGBClassifier().fit(X_train, y_train)"
   ]
  },
  {
   "cell_type": "code",
   "execution_count": null,
   "id": "8c046431",
   "metadata": {},
   "outputs": [],
   "source": [
    "y_pred_train = XGB.predict(X_train)\n",
    "y_proba_train = XGB.predict_proba(X_train)\n",
    "\n",
    "y_pred_test = XGB.predict(X_test)\n",
    "y_proba_test = XGB.predict_proba(X_test)\n",
    "\n",
    "y_pred_val = XGB.predict(X_val)\n",
    "y_proba_val = XGB.predict_proba(X_val)"
   ]
  },
  {
   "cell_type": "code",
   "execution_count": null,
   "id": "baf013e8",
   "metadata": {},
   "outputs": [],
   "source": [
    "XGB_score=get_metrics_score(XGB,X_train,X_test,y_train,y_test, X_val, y_val)\n",
    "add_score_model(XGB_score)"
   ]
  },
  {
   "cell_type": "markdown",
   "id": "5b0b93ee",
   "metadata": {
    "scrolled": true
   },
   "source": [
    "#### Bagging Classifiers:"
   ]
  },
  {
   "cell_type": "code",
   "execution_count": null,
   "id": "b7867e59",
   "metadata": {},
   "outputs": [],
   "source": [
    "BagC = BaggingClassifier(base_estimator=SVC(), n_estimators=10, random_state=0).fit(X_train, y_train)"
   ]
  },
  {
   "cell_type": "code",
   "execution_count": null,
   "id": "8c046431",
   "metadata": {},
   "outputs": [],
   "source": [
    "y_pred_train = BagC.predict(X_train)\n",
    "y_proba_train = BagC.predict_proba(X_train)\n",
    "\n",
    "y_pred_test = BagC.predict(X_test)\n",
    "y_proba_test = BagC.predict_proba(X_test)\n",
    "\n",
    "y_pred_val = BagC.predict(X_val)\n",
    "y_proba_val = BagC.predict_proba(X_val)"
   ]
  },
  {
   "cell_type": "code",
   "execution_count": null,
   "id": "baf013e8",
   "metadata": {},
   "outputs": [],
   "source": [
    "BagC_score=get_metrics_score(BagC,X_train,X_test,y_train,y_test, X_val, y_val)\n",
    "add_score_model(BagC_score)"
   ]
  },
  {
   "cell_type": "code",
   "execution_count": null,
   "id": "79482313",
   "metadata": {},
   "outputs": [],
   "source": []
  },
  {
   "cell_type": "code",
   "execution_count": null,
   "id": "eba8c1c4",
   "metadata": {},
   "outputs": [],
   "source": []
  }
 ],
 "metadata": {
  "kernelspec": {
   "display_name": "Python 3 (ipykernel)",
   "language": "python",
   "name": "python3"
  },
  "language_info": {
   "codemirror_mode": {
    "name": "ipython",
    "version": 3
   },
   "file_extension": ".py",
   "mimetype": "text/x-python",
   "name": "python",
   "nbconvert_exporter": "python",
   "pygments_lexer": "ipython3",
   "version": "3.9.7"
  }
 },
 "nbformat": 4,
 "nbformat_minor": 5
}
