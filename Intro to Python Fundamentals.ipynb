{
 "cells": [
  {
   "cell_type": "markdown",
   "metadata": {},
   "source": [
    "# Python Fundamentals: \n",
    "### Author - Pritesh Jha"
   ]
  },
  {
   "cell_type": "markdown",
   "metadata": {},
   "source": [
    "##### Index :"
   ]
  },
  {
   "cell_type": "code",
   "execution_count": 2,
   "metadata": {},
   "outputs": [],
   "source": [
    "# 01 : Comments / Initialization / Declaration / print"
   ]
  },
  {
   "cell_type": "code",
   "execution_count": 3,
   "metadata": {},
   "outputs": [],
   "source": [
    "# 02 :  Datatypes : Integer / Float / String / List / Tuples / Dictionary / Set / Array / Type casting"
   ]
  },
  {
   "cell_type": "code",
   "execution_count": 4,
   "metadata": {},
   "outputs": [],
   "source": [
    "# 03 :  Operators : Arithmetic / Relational / Logical"
   ]
  },
  {
   "cell_type": "code",
   "execution_count": 5,
   "metadata": {},
   "outputs": [],
   "source": [
    "# 04 : Conditional statements : if-else"
   ]
  },
  {
   "cell_type": "code",
   "execution_count": 6,
   "metadata": {},
   "outputs": [],
   "source": [
    "# 05 : Loops : While / For"
   ]
  },
  {
   "cell_type": "code",
   "execution_count": 7,
   "metadata": {},
   "outputs": [],
   "source": [
    "# 06 : Exception Handling"
   ]
  },
  {
   "cell_type": "code",
   "execution_count": 8,
   "metadata": {},
   "outputs": [],
   "source": [
    "# 07 : Functions and Generators / Global and Local variables / Overloading and Overriding"
   ]
  },
  {
   "cell_type": "code",
   "execution_count": 9,
   "metadata": {},
   "outputs": [],
   "source": [
    "# 08 : Lambda / map / filter "
   ]
  },
  {
   "cell_type": "code",
   "execution_count": 10,
   "metadata": {},
   "outputs": [],
   "source": [
    "# 09 : Class and Objects / Inheritence / Polymorphism"
   ]
  },
  {
   "cell_type": "code",
   "execution_count": 11,
   "metadata": {},
   "outputs": [],
   "source": [
    "# 10 : Anagrams and Regex"
   ]
  },
  {
   "cell_type": "code",
   "execution_count": 12,
   "metadata": {},
   "outputs": [],
   "source": [
    "# 11 : File operations - read / write"
   ]
  },
  {
   "cell_type": "markdown",
   "metadata": {},
   "source": [
    "###  01 : Comments / Initialization / Declaration / print"
   ]
  },
  {
   "cell_type": "markdown",
   "metadata": {},
   "source": [
    "#### Comments :"
   ]
  },
  {
   "cell_type": "code",
   "execution_count": 13,
   "metadata": {},
   "outputs": [],
   "source": [
    "# \"Comments\" are only for explanation/understanding of the code\n",
    "# Comments are not displayed in output when using print()\n",
    "# Use \"#\" before any line to instruct the compiler that it is a comment.\n"
   ]
  },
  {
   "cell_type": "code",
   "execution_count": 14,
   "metadata": {},
   "outputs": [],
   "source": [
    "# Note : Using \"#\" will only make a single line a \"comment\". To display multi-line comment, use \"\"\" xyz \"\"\"\n",
    "# See below"
   ]
  },
  {
   "cell_type": "code",
   "execution_count": 15,
   "metadata": {},
   "outputs": [],
   "source": [
    "# Eg : This is a single line comment"
   ]
  },
  {
   "cell_type": "code",
   "execution_count": 16,
   "metadata": {},
   "outputs": [
    {
     "data": {
      "text/plain": [
       "'Eg :\\nThis is a multi-line comment.'"
      ]
     },
     "execution_count": 16,
     "metadata": {},
     "output_type": "execute_result"
    }
   ],
   "source": [
    "\"\"\"Eg :\n",
    "This is a multi-line comment.\"\"\""
   ]
  },
  {
   "cell_type": "markdown",
   "metadata": {},
   "source": [
    "#### Initialize and Declaration :"
   ]
  },
  {
   "cell_type": "code",
   "execution_count": 17,
   "metadata": {},
   "outputs": [],
   "source": [
    "# \"Initialization\" means to let the compiler know that a particular variable exists. \n",
    "# So that a memory location is given to that variable\n",
    "\n",
    "# Declaration means to assign a value to the variable\n",
    "# This value is saved in the alloted memory location\n",
    "# We can find the memory location using id(variable)"
   ]
  },
  {
   "cell_type": "code",
   "execution_count": 18,
   "metadata": {},
   "outputs": [],
   "source": [
    "a = 10"
   ]
  },
  {
   "cell_type": "code",
   "execution_count": 19,
   "metadata": {},
   "outputs": [
    {
     "data": {
      "text/plain": [
       "140736726475440"
      ]
     },
     "execution_count": 19,
     "metadata": {},
     "output_type": "execute_result"
    }
   ],
   "source": [
    "id(a)"
   ]
  },
  {
   "cell_type": "code",
   "execution_count": 20,
   "metadata": {},
   "outputs": [],
   "source": [
    "# a is initialized and value of 10 is declared and stored in memory location : 140736753672880"
   ]
  },
  {
   "cell_type": "code",
   "execution_count": 21,
   "metadata": {},
   "outputs": [],
   "source": [
    "# reading multiple declarations\n",
    "x,y,z = 2,3,4"
   ]
  },
  {
   "cell_type": "code",
   "execution_count": 22,
   "metadata": {},
   "outputs": [
    {
     "data": {
      "text/plain": [
       "2"
      ]
     },
     "execution_count": 22,
     "metadata": {},
     "output_type": "execute_result"
    }
   ],
   "source": [
    "x"
   ]
  },
  {
   "cell_type": "markdown",
   "metadata": {},
   "source": [
    "#### Display output using print() :"
   ]
  },
  {
   "cell_type": "code",
   "execution_count": 23,
   "metadata": {},
   "outputs": [],
   "source": [
    "# These are 4 different methods of using print() method :"
   ]
  },
  {
   "cell_type": "code",
   "execution_count": 24,
   "metadata": {},
   "outputs": [
    {
     "name": "stdout",
     "output_type": "stream",
     "text": [
      "Output : value of a : \n",
      "10\n"
     ]
    }
   ],
   "source": [
    "print('Output : value of a : ')\n",
    "print(a)"
   ]
  },
  {
   "cell_type": "code",
   "execution_count": 25,
   "metadata": {},
   "outputs": [
    {
     "name": "stdout",
     "output_type": "stream",
     "text": [
      "Output : value of a :  10\n"
     ]
    }
   ],
   "source": [
    "print('Output : value of a : ',a)"
   ]
  },
  {
   "cell_type": "code",
   "execution_count": 26,
   "metadata": {},
   "outputs": [
    {
     "name": "stdout",
     "output_type": "stream",
     "text": [
      "Output : 10 is the value of a\n"
     ]
    }
   ],
   "source": [
    "print('Output : %a is the value of a' %a)\n",
    "# Note : Here \",\" was not used like in previous method"
   ]
  },
  {
   "cell_type": "code",
   "execution_count": 27,
   "metadata": {},
   "outputs": [
    {
     "name": "stdout",
     "output_type": "stream",
     "text": [
      "Output : 10 is the value of a\n"
     ]
    }
   ],
   "source": [
    "print('Output : {} is the value of a'.format(a))"
   ]
  },
  {
   "cell_type": "markdown",
   "metadata": {},
   "source": [
    "### 02 :  Datatypes : Integer / Float / Complex / String / List / Tuples / Dictionary / Set / Array "
   ]
  },
  {
   "cell_type": "markdown",
   "metadata": {},
   "source": [
    "#### Numeric data : int / float / complex"
   ]
  },
  {
   "cell_type": "code",
   "execution_count": 28,
   "metadata": {},
   "outputs": [
    {
     "name": "stdout",
     "output_type": "stream",
     "text": [
      "Value of a is : 1\n",
      "Datatype of a is : <class 'int'>\n"
     ]
    }
   ],
   "source": [
    "a = 1\n",
    "print('Value of a is :', a)\n",
    "print('Datatype of a is :', type(a))\n"
   ]
  },
  {
   "cell_type": "code",
   "execution_count": 29,
   "metadata": {},
   "outputs": [
    {
     "name": "stdout",
     "output_type": "stream",
     "text": [
      "Value of b is : 2.0\n",
      "Datatype of b is : <class 'float'>\n"
     ]
    }
   ],
   "source": [
    "b = 2.0\n",
    "print('Value of b is :', b)\n",
    "print('Datatype of b is :', type(b))"
   ]
  },
  {
   "cell_type": "code",
   "execution_count": 30,
   "metadata": {},
   "outputs": [
    {
     "name": "stdout",
     "output_type": "stream",
     "text": [
      "Value of c is : (3+2j)\n",
      "Datatype of c is : <class 'complex'>\n"
     ]
    }
   ],
   "source": [
    "c = 3 + 2.0j\n",
    "print('Value of c is :', c)\n",
    "print('Datatype of c is :', type(c))\n",
    "\n",
    "# Note : Complex numbers are of the format (x + iy)"
   ]
  },
  {
   "cell_type": "markdown",
   "metadata": {},
   "source": [
    "#### Text data : Strings"
   ]
  },
  {
   "cell_type": "code",
   "execution_count": 31,
   "metadata": {},
   "outputs": [
    {
     "name": "stdout",
     "output_type": "stream",
     "text": [
      "Value of s is : Hello\n",
      "Datatype of s is : <class 'str'>\n"
     ]
    }
   ],
   "source": [
    "s = 'Hello'\n",
    "print('Value of s is :', s)\n",
    "print('Datatype of s is :', type(s))"
   ]
  },
  {
   "cell_type": "code",
   "execution_count": 32,
   "metadata": {},
   "outputs": [
    {
     "name": "stdout",
     "output_type": "stream",
     "text": [
      "Hi \n",
      "I am Pritesh. My gaming tags are :\tNightWolf \\ BlackFlash\n"
     ]
    }
   ],
   "source": [
    "print('Hi \\nI am Pritesh. My gaming tags are :\\tNightWolf \\\\ BlackFlash')\n",
    "# \\n : for new line\n",
    "# \\\\ : to print \"\\\"\n",
    "# \\t : for \"tab\""
   ]
  },
  {
   "cell_type": "markdown",
   "metadata": {},
   "source": [
    "#### Slicing using Index"
   ]
  },
  {
   "cell_type": "code",
   "execution_count": 33,
   "metadata": {},
   "outputs": [
    {
     "data": {
      "text/plain": [
       "'H'"
      ]
     },
     "execution_count": 33,
     "metadata": {},
     "output_type": "execute_result"
    }
   ],
   "source": [
    "s[0] #print 1st element. Note : index starts with 0"
   ]
  },
  {
   "cell_type": "code",
   "execution_count": 34,
   "metadata": {},
   "outputs": [
    {
     "data": {
      "text/plain": [
       "'l'"
      ]
     },
     "execution_count": 34,
     "metadata": {},
     "output_type": "execute_result"
    }
   ],
   "source": [
    "s[2] #print 3rd element"
   ]
  },
  {
   "cell_type": "code",
   "execution_count": 35,
   "metadata": {},
   "outputs": [
    {
     "data": {
      "text/plain": [
       "'Hello'"
      ]
     },
     "execution_count": 35,
     "metadata": {},
     "output_type": "execute_result"
    }
   ],
   "source": [
    "s[0:] #print all elements STARTING FROM 1st element"
   ]
  },
  {
   "cell_type": "code",
   "execution_count": 36,
   "metadata": {},
   "outputs": [
    {
     "data": {
      "text/plain": [
       "'Hel'"
      ]
     },
     "execution_count": 36,
     "metadata": {},
     "output_type": "execute_result"
    }
   ],
   "source": [
    "s[0:3] #print all elements starting from 1st and ending BEFORE 4th element"
   ]
  },
  {
   "cell_type": "code",
   "execution_count": 37,
   "metadata": {},
   "outputs": [
    {
     "data": {
      "text/plain": [
       "'Hel'"
      ]
     },
     "execution_count": 37,
     "metadata": {},
     "output_type": "execute_result"
    }
   ],
   "source": [
    "s[:3] #print all elements ENDING BEFORE 4th element"
   ]
  },
  {
   "cell_type": "code",
   "execution_count": 38,
   "metadata": {},
   "outputs": [
    {
     "data": {
      "text/plain": [
       "'o'"
      ]
     },
     "execution_count": 38,
     "metadata": {},
     "output_type": "execute_result"
    }
   ],
   "source": [
    "s[-1] #print last element"
   ]
  },
  {
   "cell_type": "code",
   "execution_count": 39,
   "metadata": {},
   "outputs": [
    {
     "data": {
      "text/plain": [
       "'l'"
      ]
     },
     "execution_count": 39,
     "metadata": {},
     "output_type": "execute_result"
    }
   ],
   "source": [
    "s[-2] #print 2nd last element"
   ]
  },
  {
   "cell_type": "code",
   "execution_count": 40,
   "metadata": {},
   "outputs": [
    {
     "data": {
      "text/plain": [
       "'Hlo'"
      ]
     },
     "execution_count": 40,
     "metadata": {},
     "output_type": "execute_result"
    }
   ],
   "source": [
    "s[0::2] #print every 2nd element from elements starting from 1st till last."
   ]
  },
  {
   "cell_type": "code",
   "execution_count": 41,
   "metadata": {},
   "outputs": [
    {
     "data": {
      "text/plain": [
       "'Hlo'"
      ]
     },
     "execution_count": 41,
     "metadata": {},
     "output_type": "execute_result"
    }
   ],
   "source": [
    "s[::2] #gives same result as above. "
   ]
  },
  {
   "cell_type": "code",
   "execution_count": 42,
   "metadata": {},
   "outputs": [
    {
     "data": {
      "text/plain": [
       "'el'"
      ]
     },
     "execution_count": 42,
     "metadata": {},
     "output_type": "execute_result"
    }
   ],
   "source": [
    "s[1:-1:2] #print every 2nd element from elements starting from 2nd and ending before last."
   ]
  },
  {
   "cell_type": "code",
   "execution_count": 43,
   "metadata": {},
   "outputs": [],
   "source": [
    "# Try this : write a code using above properties that prints 'Hello' as 'olleH'. (Reverse of string)"
   ]
  },
  {
   "cell_type": "markdown",
   "metadata": {},
   "source": [
    "#### String methods:"
   ]
  },
  {
   "cell_type": "code",
   "execution_count": 44,
   "metadata": {},
   "outputs": [],
   "source": [
    "s1 = 'I am night. I am vengence. I am Batman.'\n",
    "s2 = 'The road to success and the road to failure are almost exactly the same.'\n",
    "s3 = 'My name is ... '\n",
    "s4 = 'Bond... James Bond!!'"
   ]
  },
  {
   "cell_type": "code",
   "execution_count": 45,
   "metadata": {},
   "outputs": [],
   "source": [
    "# Following are a few string methods : \n",
    "# These are commonly used methods. For further details, Vist : https://www.w3schools.com/python/python_strings_methods.asp"
   ]
  },
  {
   "cell_type": "code",
   "execution_count": 46,
   "metadata": {},
   "outputs": [
    {
     "data": {
      "text/plain": [
       "'My name is ... Bond... James Bond!!'"
      ]
     },
     "execution_count": 46,
     "metadata": {},
     "output_type": "execute_result"
    }
   ],
   "source": [
    "s5 = s3 + s4 #Concatenates 2 strings\n",
    "s5"
   ]
  },
  {
   "cell_type": "code",
   "execution_count": 47,
   "metadata": {},
   "outputs": [
    {
     "data": {
      "text/plain": [
       "39"
      ]
     },
     "execution_count": 47,
     "metadata": {},
     "output_type": "execute_result"
    }
   ],
   "source": [
    "len(s1) #prints length of string"
   ]
  },
  {
   "cell_type": "code",
   "execution_count": 48,
   "metadata": {},
   "outputs": [
    {
     "name": "stdout",
     "output_type": "stream",
     "text": [
      "True\n"
     ]
    }
   ],
   "source": [
    "print(\"road\" in s2) #prints True if a particular text exists in string using \"IN\" keyword"
   ]
  },
  {
   "cell_type": "code",
   "execution_count": 49,
   "metadata": {},
   "outputs": [
    {
     "data": {
      "text/plain": [
       "2"
      ]
     },
     "execution_count": 49,
     "metadata": {},
     "output_type": "execute_result"
    }
   ],
   "source": [
    "s2.count('road') #prints the number of times the text has occured in the string"
   ]
  },
  {
   "cell_type": "code",
   "execution_count": 50,
   "metadata": {},
   "outputs": [
    {
     "name": "stdout",
     "output_type": "stream",
     "text": [
      "my name is ... \n",
      "BOND... JAMES BOND!!\n"
     ]
    }
   ],
   "source": [
    "print(s3.lower()) #change to lower case\n",
    "print(s4.upper()) #change to upper case"
   ]
  },
  {
   "cell_type": "code",
   "execution_count": 51,
   "metadata": {
    "scrolled": true
   },
   "outputs": [
    {
     "name": "stdout",
     "output_type": "stream",
     "text": [
      "My name is ... Potter... James Potter!!\n",
      "\n",
      "My name is ... Fond... James Fond!!\n"
     ]
    }
   ],
   "source": [
    "print(s5.replace('Bond','Potter')) #replaces part of string with the specified text. Text can be a letter or words.\n",
    "print()\n",
    "print(s5.replace('B','F'))"
   ]
  },
  {
   "cell_type": "code",
   "execution_count": 52,
   "metadata": {},
   "outputs": [
    {
     "name": "stdout",
     "output_type": "stream",
     "text": [
      "['My name is ', ' Bond', ' James Bond!!']\n"
     ]
    }
   ],
   "source": [
    "res1 = s5.split(\"...\") #splits the string from where the delimitor lies\n",
    "print(res1)"
   ]
  },
  {
   "cell_type": "code",
   "execution_count": 53,
   "metadata": {},
   "outputs": [
    {
     "data": {
      "text/plain": [
       "4"
      ]
     },
     "execution_count": 53,
     "metadata": {},
     "output_type": "execute_result"
    }
   ],
   "source": [
    "s.find('o') # Returns the index at which the char is located. Eg : 'o' is at index 4 in 'Hello' \n",
    "# Note : It will only return the index of FIRST instance of the char. To understand, try finding index of 'l' in 'Hello'\n",
    "# Similarly, str.rfind() is used to locate the index of LAST instance."
   ]
  },
  {
   "cell_type": "code",
   "execution_count": 54,
   "metadata": {},
   "outputs": [
    {
     "data": {
      "text/plain": [
       "4"
      ]
     },
     "execution_count": 54,
     "metadata": {},
     "output_type": "execute_result"
    }
   ],
   "source": [
    "s.index('o') #same as str.find() in functionality"
   ]
  },
  {
   "cell_type": "code",
   "execution_count": 55,
   "metadata": {},
   "outputs": [
    {
     "data": {
      "text/plain": [
       "False"
      ]
     },
     "execution_count": 55,
     "metadata": {},
     "output_type": "execute_result"
    }
   ],
   "source": [
    "s.isdigit() #returns True if str is digit"
   ]
  },
  {
   "cell_type": "markdown",
   "metadata": {},
   "source": [
    "#### Type casting : "
   ]
  },
  {
   "cell_type": "code",
   "execution_count": 56,
   "metadata": {},
   "outputs": [],
   "source": [
    "# Changing one datatype to another using \"datatype(variable)\" method"
   ]
  },
  {
   "cell_type": "code",
   "execution_count": 57,
   "metadata": {},
   "outputs": [
    {
     "name": "stdout",
     "output_type": "stream",
     "text": [
      "1.0\n"
     ]
    }
   ],
   "source": [
    "# Converting int to float :\n",
    "print(float(a))"
   ]
  },
  {
   "cell_type": "code",
   "execution_count": 58,
   "metadata": {},
   "outputs": [
    {
     "name": "stdout",
     "output_type": "stream",
     "text": [
      "Datatype of new b is : <class 'str'>\n"
     ]
    }
   ],
   "source": [
    "# Converting float to string :\n",
    "b = str(b)\n",
    "print('Datatype of new b is :', type(b))"
   ]
  },
  {
   "cell_type": "markdown",
   "metadata": {},
   "source": [
    "#### Lists :"
   ]
  },
  {
   "cell_type": "code",
   "execution_count": 59,
   "metadata": {},
   "outputs": [],
   "source": [
    "l0 = []\n",
    "l1 = [1, 2, 3, 4, 5]\n",
    "l2 = [1, 2, 3.0, 4.0, 'five', 'six']"
   ]
  },
  {
   "cell_type": "code",
   "execution_count": 60,
   "metadata": {},
   "outputs": [],
   "source": [
    "# Lists are ORDERED, INDEXED, MUTABLE.\n",
    "\n",
    "# Note : Slicing works similar to Strings."
   ]
  },
  {
   "cell_type": "code",
   "execution_count": 61,
   "metadata": {},
   "outputs": [
    {
     "data": {
      "text/plain": [
       "1"
      ]
     },
     "execution_count": 61,
     "metadata": {},
     "output_type": "execute_result"
    }
   ],
   "source": [
    "l2[0]"
   ]
  },
  {
   "cell_type": "code",
   "execution_count": 62,
   "metadata": {},
   "outputs": [
    {
     "name": "stdout",
     "output_type": "stream",
     "text": [
      "[10, 2, 3.0, 4.0, 'five', 'six']\n"
     ]
    }
   ],
   "source": [
    "l2[0] = 10   #changing values of element of list\n",
    "print(l2)"
   ]
  },
  {
   "cell_type": "code",
   "execution_count": 63,
   "metadata": {},
   "outputs": [
    {
     "data": {
      "text/plain": [
       "[1.01, 10, 2, 3.0, 4.0, 'five', 'six']"
      ]
     },
     "execution_count": 63,
     "metadata": {},
     "output_type": "execute_result"
    }
   ],
   "source": [
    "l2.insert(0,1.01)  #Insert 1.01 at the index 0\n",
    "l2"
   ]
  },
  {
   "cell_type": "code",
   "execution_count": 64,
   "metadata": {},
   "outputs": [
    {
     "data": {
      "text/plain": [
       "[1.01, 10, 2, 3.0, 4.0, 'five', 'six', 7.0]"
      ]
     },
     "execution_count": 64,
     "metadata": {},
     "output_type": "execute_result"
    }
   ],
   "source": [
    "l2.append(7.0)  #list.append() adds new value to the end of list\n",
    "l2"
   ]
  },
  {
   "cell_type": "code",
   "execution_count": 65,
   "metadata": {},
   "outputs": [
    {
     "name": "stdout",
     "output_type": "stream",
     "text": [
      "[1, 2, 3, 4, 5, 1.01, 10, 2, 3.0, 4.0, 'five', 'six', 7.0]\n"
     ]
    }
   ],
   "source": [
    "l1.extend(l2)\n",
    "print(l1)\n",
    "# Here in list.extend(iterable) , iterable can be list,tuple,dict,set,etc \n",
    "# Use list1 + list2 + list3 for multiple lists"
   ]
  },
  {
   "cell_type": "code",
   "execution_count": 66,
   "metadata": {},
   "outputs": [
    {
     "data": {
      "text/plain": [
       "[1, 2, 3, 4, 5, 10, 2, 3.0, 4.0, 'five', 'six', 7.0]"
      ]
     },
     "execution_count": 66,
     "metadata": {},
     "output_type": "execute_result"
    }
   ],
   "source": [
    "l1.remove(1.01)  #remove the value 1.01 from list\n",
    "l1"
   ]
  },
  {
   "cell_type": "code",
   "execution_count": 67,
   "metadata": {},
   "outputs": [
    {
     "data": {
      "text/plain": [
       "[1, 2, 3, 4, 5, 10, 2, 3.0, 4.0, 'five', 'six']"
      ]
     },
     "execution_count": 67,
     "metadata": {},
     "output_type": "execute_result"
    }
   ],
   "source": [
    "l1.pop(-1)  #remove the value at the last index\n",
    "l1"
   ]
  },
  {
   "cell_type": "code",
   "execution_count": 68,
   "metadata": {},
   "outputs": [
    {
     "data": {
      "text/plain": [
       "[]"
      ]
     },
     "execution_count": 68,
     "metadata": {},
     "output_type": "execute_result"
    }
   ],
   "source": [
    "l1.clear()  #delete all elements in the list\n",
    "l1"
   ]
  },
  {
   "cell_type": "code",
   "execution_count": 69,
   "metadata": {},
   "outputs": [
    {
     "name": "stdout",
     "output_type": "stream",
     "text": [
      "[0, 1, 2, 3, 4, 5, 6, 7, 8, 9]\n"
     ]
    }
   ],
   "source": [
    "# List Comprehension : \n",
    "# (Will discuss this again after Loops have been covered)\n",
    "\n",
    "l1 = [i for i in range(10)]  \n",
    "print(l1)"
   ]
  },
  {
   "cell_type": "code",
   "execution_count": 70,
   "metadata": {},
   "outputs": [
    {
     "name": "stdout",
     "output_type": "stream",
     "text": [
      "[9, 8, 7, 6, 5, 4, 3, 2, 1, 0]\n"
     ]
    }
   ],
   "source": [
    "l1.sort(reverse=True) #Sort the values in list. (default : ascending)\n",
    "print(l1)"
   ]
  },
  {
   "cell_type": "code",
   "execution_count": 71,
   "metadata": {},
   "outputs": [
    {
     "data": {
      "text/plain": [
       "[7.0, 'six', 'five', 4.0, 3.0, 2, 10, 1.01]"
      ]
     },
     "execution_count": 71,
     "metadata": {},
     "output_type": "execute_result"
    }
   ],
   "source": [
    "l2.reverse() #reverse the list based on indexing\n",
    "l2"
   ]
  },
  {
   "cell_type": "code",
   "execution_count": 72,
   "metadata": {},
   "outputs": [
    {
     "data": {
      "text/plain": [
       "[[9, 8, 7], [7.0, 'six', 'five']]"
      ]
     },
     "execution_count": 72,
     "metadata": {},
     "output_type": "execute_result"
    }
   ],
   "source": [
    "l0 = [l1[0:3]] + [l2[0:3]]  #Lists as elements of a List\n",
    "l0"
   ]
  },
  {
   "cell_type": "code",
   "execution_count": 73,
   "metadata": {},
   "outputs": [
    {
     "data": {
      "text/plain": [
       "'five'"
      ]
     },
     "execution_count": 73,
     "metadata": {},
     "output_type": "execute_result"
    }
   ],
   "source": [
    "l0[1][2]"
   ]
  },
  {
   "cell_type": "markdown",
   "metadata": {},
   "source": [
    "#### Tuples :"
   ]
  },
  {
   "cell_type": "code",
   "execution_count": 74,
   "metadata": {},
   "outputs": [],
   "source": [
    "# Tuples are ORDERED, INDEXED, IMMUTABLE.\n",
    "\n",
    "# Note : Slicing works similar to Lists."
   ]
  },
  {
   "cell_type": "code",
   "execution_count": 75,
   "metadata": {},
   "outputs": [],
   "source": [
    "# As tuples are immutable, you can not append, join, replace elements in tuples.\n",
    "# To edit them, you will have to use type casting to convert tuple into a list."
   ]
  },
  {
   "cell_type": "code",
   "execution_count": 76,
   "metadata": {},
   "outputs": [
    {
     "name": "stdout",
     "output_type": "stream",
     "text": [
      "(1, 2, 3)\n"
     ]
    }
   ],
   "source": [
    "t0 = (1,2,3)\n",
    "print(t0)"
   ]
  },
  {
   "cell_type": "code",
   "execution_count": 77,
   "metadata": {},
   "outputs": [
    {
     "data": {
      "text/plain": [
       "[1, 2, 3]"
      ]
     },
     "execution_count": 77,
     "metadata": {},
     "output_type": "execute_result"
    }
   ],
   "source": [
    "t1 = list(t0)\n",
    "t1"
   ]
  },
  {
   "cell_type": "code",
   "execution_count": 78,
   "metadata": {},
   "outputs": [],
   "source": [
    "# Tuple only have tuple.count() and tuple.index() methods."
   ]
  },
  {
   "cell_type": "markdown",
   "metadata": {},
   "source": [
    "#### Dictionary :"
   ]
  },
  {
   "cell_type": "code",
   "execution_count": 79,
   "metadata": {},
   "outputs": [],
   "source": [
    "# Dicts are UNORDERED, UNINDEXED and has NO DUPLICATES."
   ]
  },
  {
   "cell_type": "code",
   "execution_count": 80,
   "metadata": {},
   "outputs": [
    {
     "data": {
      "text/plain": [
       "{'a': 1, 'b': 2, 'c': 3}"
      ]
     },
     "execution_count": 80,
     "metadata": {},
     "output_type": "execute_result"
    }
   ],
   "source": [
    "d = {'a':1, 'b':2, 'c':3}\n",
    "d"
   ]
  },
  {
   "cell_type": "code",
   "execution_count": 81,
   "metadata": {},
   "outputs": [],
   "source": [
    "# {item} == {key : value}\n",
    "# 'a','b','c' are keys.\n",
    "# 1,2,3 are values"
   ]
  },
  {
   "cell_type": "code",
   "execution_count": 82,
   "metadata": {},
   "outputs": [
    {
     "data": {
      "text/plain": [
       "['a', 'b', 'c']"
      ]
     },
     "execution_count": 82,
     "metadata": {},
     "output_type": "execute_result"
    }
   ],
   "source": [
    "list(d.keys())"
   ]
  },
  {
   "cell_type": "code",
   "execution_count": 83,
   "metadata": {},
   "outputs": [
    {
     "data": {
      "text/plain": [
       "[1, 2, 3]"
      ]
     },
     "execution_count": 83,
     "metadata": {},
     "output_type": "execute_result"
    }
   ],
   "source": [
    "list(d.values())"
   ]
  },
  {
   "cell_type": "code",
   "execution_count": 84,
   "metadata": {},
   "outputs": [
    {
     "data": {
      "text/plain": [
       "1"
      ]
     },
     "execution_count": 84,
     "metadata": {},
     "output_type": "execute_result"
    }
   ],
   "source": [
    "d.get('a')"
   ]
  },
  {
   "cell_type": "code",
   "execution_count": 85,
   "metadata": {},
   "outputs": [
    {
     "data": {
      "text/plain": [
       "10"
      ]
     },
     "execution_count": 85,
     "metadata": {},
     "output_type": "execute_result"
    }
   ],
   "source": [
    "# Changing value for a particular key\n",
    "d['a'] = 10\n",
    "d['a']"
   ]
  },
  {
   "cell_type": "code",
   "execution_count": 86,
   "metadata": {},
   "outputs": [
    {
     "data": {
      "text/plain": [
       "[('a', 10), ('b', 2), ('c', 3)]"
      ]
     },
     "execution_count": 86,
     "metadata": {},
     "output_type": "execute_result"
    }
   ],
   "source": [
    "list(d.items())"
   ]
  },
  {
   "cell_type": "code",
   "execution_count": 87,
   "metadata": {},
   "outputs": [],
   "source": [
    "# Try this : Write a code that checks if user input is in the dict keys or not."
   ]
  },
  {
   "cell_type": "code",
   "execution_count": 88,
   "metadata": {},
   "outputs": [
    {
     "data": {
      "text/plain": [
       "{'a': 10, 'b': 20, 'c': 3}"
      ]
     },
     "execution_count": 88,
     "metadata": {},
     "output_type": "execute_result"
    }
   ],
   "source": [
    "d.update({'b':20})\n",
    "d"
   ]
  },
  {
   "cell_type": "code",
   "execution_count": 89,
   "metadata": {},
   "outputs": [
    {
     "data": {
      "text/plain": [
       "{'a': 10, 'b': 20, 'c': 3, 'd': 4}"
      ]
     },
     "execution_count": 89,
     "metadata": {},
     "output_type": "execute_result"
    }
   ],
   "source": [
    "d.update({'d':4}) # can also be used to add new items\n",
    "d"
   ]
  },
  {
   "cell_type": "code",
   "execution_count": 90,
   "metadata": {},
   "outputs": [
    {
     "data": {
      "text/plain": [
       "{'a': 10, 'b': 20, 'c': 3}"
      ]
     },
     "execution_count": 90,
     "metadata": {},
     "output_type": "execute_result"
    }
   ],
   "source": [
    "d.pop('d')\n",
    "d"
   ]
  },
  {
   "cell_type": "code",
   "execution_count": 91,
   "metadata": {},
   "outputs": [],
   "source": [
    "# Nested Dictionaries :\n",
    "\n",
    "child1 = {\n",
    "  \"name\" : \"Shweta\",\n",
    "  \"year\" : 1989\n",
    "}\n",
    "child2 = {\n",
    "  \"name\" : \"Sneha\",\n",
    "  \"year\" : 1990\n",
    "}\n",
    "child3 = {\n",
    "  \"name\" : \"Pritesh\",\n",
    "  \"year\" : 1993\n",
    "}\n",
    "\n",
    "myfamily = {\n",
    "  \"child1\" : child1,\n",
    "  \"child2\" : child2,\n",
    "  \"child3\" : child3\n",
    "}"
   ]
  },
  {
   "cell_type": "code",
   "execution_count": 92,
   "metadata": {},
   "outputs": [
    {
     "data": {
      "text/plain": [
       "'Pritesh'"
      ]
     },
     "execution_count": 92,
     "metadata": {},
     "output_type": "execute_result"
    }
   ],
   "source": [
    "myfamily['child3']['name']"
   ]
  },
  {
   "cell_type": "code",
   "execution_count": 93,
   "metadata": {},
   "outputs": [
    {
     "data": {
      "text/plain": [
       "{'x': None, 'y': None, 'z': None}"
      ]
     },
     "execution_count": 93,
     "metadata": {},
     "output_type": "execute_result"
    }
   ],
   "source": [
    "ld1 = ['x','y','z']\n",
    "ld2 = [7,8,9]\n",
    "\n",
    "d1 = {}\n",
    "d1.fromkeys(ld1)  # dict.fromkeys() is used to create dict from list"
   ]
  },
  {
   "cell_type": "markdown",
   "metadata": {},
   "source": [
    "#### Set :"
   ]
  },
  {
   "cell_type": "code",
   "execution_count": 94,
   "metadata": {},
   "outputs": [],
   "source": [
    "# Sets are UNORDERED, UNINDEXED, UNIQUE.\n",
    "# Based on Venn diagrams."
   ]
  },
  {
   "cell_type": "code",
   "execution_count": 95,
   "metadata": {},
   "outputs": [
    {
     "data": {
      "text/plain": [
       "{1, 2, 3, 4, 'alpha', 'beta', 'delta', 'gamma'}"
      ]
     },
     "execution_count": 95,
     "metadata": {},
     "output_type": "execute_result"
    }
   ],
   "source": [
    "set0 = {1,2,3,4,'alpha','beta','gamma','delta'}\n",
    "set0"
   ]
  },
  {
   "cell_type": "code",
   "execution_count": 96,
   "metadata": {},
   "outputs": [],
   "source": [
    "list1 = [4,2,1,8,6,3,4,7,5,9,6,3,1,2,0]\n",
    "list2 = ['alpha','beta','gamma','delta','theta','zeta','omega']"
   ]
  },
  {
   "cell_type": "code",
   "execution_count": 97,
   "metadata": {},
   "outputs": [],
   "source": [
    "set1 = set(list1)                         #Type casting\n",
    "set2 = set(list2)"
   ]
  },
  {
   "cell_type": "code",
   "execution_count": 98,
   "metadata": {},
   "outputs": [
    {
     "name": "stdout",
     "output_type": "stream",
     "text": [
      "{0, 1, 2, 3, 4, 5, 6, 7, 8, 9, 'zeta', 'delta', 'theta', 'alpha', 'gamma', 'omega', 'beta'}\n"
     ]
    }
   ],
   "source": [
    "set3 = set1.union(set2)                   # OR table\n",
    "print(set3)"
   ]
  },
  {
   "cell_type": "code",
   "execution_count": 99,
   "metadata": {},
   "outputs": [
    {
     "name": "stdout",
     "output_type": "stream",
     "text": [
      "{1, 2, 3, 4, 'delta', 'alpha', 'gamma', 'beta'}\n"
     ]
    }
   ],
   "source": [
    "intersection = set0.intersection(set3)    # AND table\n",
    "print(intersection)"
   ]
  },
  {
   "cell_type": "code",
   "execution_count": 100,
   "metadata": {},
   "outputs": [
    {
     "name": "stdout",
     "output_type": "stream",
     "text": [
      "{0, 1, 2, 3, 4, 5, 6, 7, 8, 9}\n"
     ]
    }
   ],
   "source": [
    "diff1 = set1.difference(set2)             # A - B\n",
    "print(diff1)"
   ]
  },
  {
   "cell_type": "code",
   "execution_count": 101,
   "metadata": {},
   "outputs": [
    {
     "name": "stdout",
     "output_type": "stream",
     "text": [
      "{'zeta', 'delta', 'theta', 'alpha', 'gamma', 'omega', 'beta'}\n"
     ]
    }
   ],
   "source": [
    "diff2 = set2.difference(set1)             # B - A\n",
    "print(diff2)"
   ]
  },
  {
   "cell_type": "code",
   "execution_count": 102,
   "metadata": {},
   "outputs": [
    {
     "name": "stdout",
     "output_type": "stream",
     "text": [
      "{0, 5, 6, 7, 8, 9, 'zeta', 'theta', 'omega'}\n"
     ]
    }
   ],
   "source": [
    "diff3 = set0.symmetric_difference(set3)  # 1 - Intersection\n",
    "print(diff3)"
   ]
  },
  {
   "cell_type": "markdown",
   "metadata": {},
   "source": [
    "## 3. Operators :"
   ]
  },
  {
   "cell_type": "code",
   "execution_count": 103,
   "metadata": {},
   "outputs": [],
   "source": [
    "a = 100\n",
    "b = 25\n",
    "c = 10\n",
    "d = 5"
   ]
  },
  {
   "cell_type": "markdown",
   "metadata": {},
   "source": [
    "#### Arithmetic operators :"
   ]
  },
  {
   "cell_type": "code",
   "execution_count": 104,
   "metadata": {},
   "outputs": [
    {
     "data": {
      "text/plain": [
       "125"
      ]
     },
     "execution_count": 104,
     "metadata": {},
     "output_type": "execute_result"
    }
   ],
   "source": [
    "a + b"
   ]
  },
  {
   "cell_type": "code",
   "execution_count": 105,
   "metadata": {},
   "outputs": [
    {
     "data": {
      "text/plain": [
       "75"
      ]
     },
     "execution_count": 105,
     "metadata": {},
     "output_type": "execute_result"
    }
   ],
   "source": [
    "a - b"
   ]
  },
  {
   "cell_type": "code",
   "execution_count": 106,
   "metadata": {},
   "outputs": [
    {
     "data": {
      "text/plain": [
       "2500"
      ]
     },
     "execution_count": 106,
     "metadata": {},
     "output_type": "execute_result"
    }
   ],
   "source": [
    "a * b"
   ]
  },
  {
   "cell_type": "code",
   "execution_count": 107,
   "metadata": {},
   "outputs": [
    {
     "data": {
      "text/plain": [
       "4.0"
      ]
     },
     "execution_count": 107,
     "metadata": {},
     "output_type": "execute_result"
    }
   ],
   "source": [
    "a / b"
   ]
  },
  {
   "cell_type": "code",
   "execution_count": 108,
   "metadata": {},
   "outputs": [
    {
     "data": {
      "text/plain": [
       "0"
      ]
     },
     "execution_count": 108,
     "metadata": {},
     "output_type": "execute_result"
    }
   ],
   "source": [
    "a % b                        # Remainder"
   ]
  },
  {
   "cell_type": "code",
   "execution_count": 109,
   "metadata": {},
   "outputs": [
    {
     "name": "stdout",
     "output_type": "stream",
     "text": [
      "b / c :  2.5\n",
      "Floor div : 2\n"
     ]
    }
   ],
   "source": [
    "print('b / c : ',b / c)\n",
    "\n",
    "print('Floor div :',b // c)  # Quotient"
   ]
  },
  {
   "cell_type": "code",
   "execution_count": 110,
   "metadata": {},
   "outputs": [
    {
     "name": "stdout",
     "output_type": "stream",
     "text": [
      "Exponentiation / d power of a :  10000000000\n"
     ]
    }
   ],
   "source": [
    "print('Exponentiation / d power of a : ', a**d)"
   ]
  },
  {
   "cell_type": "markdown",
   "metadata": {},
   "source": [
    "#### Assignment operators :"
   ]
  },
  {
   "cell_type": "code",
   "execution_count": 111,
   "metadata": {},
   "outputs": [
    {
     "data": {
      "text/plain": [
       "True"
      ]
     },
     "execution_count": 111,
     "metadata": {},
     "output_type": "execute_result"
    }
   ],
   "source": [
    "a > b"
   ]
  },
  {
   "cell_type": "code",
   "execution_count": 112,
   "metadata": {},
   "outputs": [
    {
     "data": {
      "text/plain": [
       "False"
      ]
     },
     "execution_count": 112,
     "metadata": {},
     "output_type": "execute_result"
    }
   ],
   "source": [
    "a < b"
   ]
  },
  {
   "cell_type": "code",
   "execution_count": 113,
   "metadata": {},
   "outputs": [
    {
     "data": {
      "text/plain": [
       "True"
      ]
     },
     "execution_count": 113,
     "metadata": {},
     "output_type": "execute_result"
    }
   ],
   "source": [
    "a >= 2*b"
   ]
  },
  {
   "cell_type": "code",
   "execution_count": 114,
   "metadata": {},
   "outputs": [
    {
     "data": {
      "text/plain": [
       "True"
      ]
     },
     "execution_count": 114,
     "metadata": {},
     "output_type": "execute_result"
    }
   ],
   "source": [
    "a <= 4*b"
   ]
  },
  {
   "cell_type": "code",
   "execution_count": 115,
   "metadata": {},
   "outputs": [
    {
     "data": {
      "text/plain": [
       "True"
      ]
     },
     "execution_count": 115,
     "metadata": {},
     "output_type": "execute_result"
    }
   ],
   "source": [
    "a == 4*b"
   ]
  },
  {
   "cell_type": "code",
   "execution_count": 116,
   "metadata": {},
   "outputs": [
    {
     "data": {
      "text/plain": [
       "False"
      ]
     },
     "execution_count": 116,
     "metadata": {},
     "output_type": "execute_result"
    }
   ],
   "source": [
    "a != 4*b"
   ]
  },
  {
   "cell_type": "markdown",
   "metadata": {},
   "source": [
    "#### Logical operators :"
   ]
  },
  {
   "cell_type": "code",
   "execution_count": 117,
   "metadata": {},
   "outputs": [
    {
     "data": {
      "text/plain": [
       "False"
      ]
     },
     "execution_count": 117,
     "metadata": {},
     "output_type": "execute_result"
    }
   ],
   "source": [
    "a>=4*b and a<=5*c"
   ]
  },
  {
   "cell_type": "code",
   "execution_count": 118,
   "metadata": {},
   "outputs": [
    {
     "data": {
      "text/plain": [
       "True"
      ]
     },
     "execution_count": 118,
     "metadata": {},
     "output_type": "execute_result"
    }
   ],
   "source": [
    "a>=4*b or a<=5*c"
   ]
  },
  {
   "cell_type": "markdown",
   "metadata": {},
   "source": [
    "### 04 : Conditional statements : if-else"
   ]
  },
  {
   "cell_type": "code",
   "execution_count": 119,
   "metadata": {},
   "outputs": [],
   "source": [
    "a = 10\n",
    "b = 5"
   ]
  },
  {
   "cell_type": "code",
   "execution_count": 120,
   "metadata": {},
   "outputs": [
    {
     "name": "stdout",
     "output_type": "stream",
     "text": [
      "a is greater\n"
     ]
    }
   ],
   "source": [
    "if a == b:\n",
    "    print('Equal')\n",
    "elif a > b:\n",
    "    print('a is greater')\n",
    "else:\n",
    "    print('b is greater')"
   ]
  },
  {
   "cell_type": "markdown",
   "metadata": {},
   "source": [
    "### 05 : Loops "
   ]
  },
  {
   "cell_type": "markdown",
   "metadata": {},
   "source": [
    "#### While loops :"
   ]
  },
  {
   "cell_type": "code",
   "execution_count": 121,
   "metadata": {},
   "outputs": [
    {
     "name": "stdout",
     "output_type": "stream",
     "text": [
      "1\n",
      "2\n",
      "3\n",
      "4\n",
      "5\n"
     ]
    }
   ],
   "source": [
    "i = 1\n",
    "while i < 6:\n",
    "    print(i)\n",
    "    i += 1"
   ]
  },
  {
   "cell_type": "code",
   "execution_count": 122,
   "metadata": {},
   "outputs": [
    {
     "name": "stdout",
     "output_type": "stream",
     "text": [
      "1\n",
      "2\n",
      "3\n"
     ]
    }
   ],
   "source": [
    "# \"break\" statement : exit the loop if condition is met\n",
    "\n",
    "i = 1\n",
    "while i < 6:\n",
    "    print(i)\n",
    "    if i == 3:\n",
    "        break             # Breaks the loop\n",
    "    i += 1"
   ]
  },
  {
   "cell_type": "code",
   "execution_count": 123,
   "metadata": {},
   "outputs": [
    {
     "name": "stdout",
     "output_type": "stream",
     "text": [
      "1\n",
      "2\n",
      "4\n",
      "5\n",
      "6\n"
     ]
    }
   ],
   "source": [
    "# \"continue\" statement : \n",
    "\n",
    "i = 0\n",
    "while i < 6:\n",
    "    i += 1\n",
    "    if i == 3:\n",
    "        continue           # Does not run print(i) in this case and continues the loop\n",
    "    print(i)"
   ]
  },
  {
   "cell_type": "markdown",
   "metadata": {},
   "source": [
    "#### For loops :"
   ]
  },
  {
   "cell_type": "code",
   "execution_count": 124,
   "metadata": {},
   "outputs": [
    {
     "name": "stdout",
     "output_type": "stream",
     "text": [
      "H\n",
      "e\n",
      "l\n",
      "l\n",
      "o\n"
     ]
    }
   ],
   "source": [
    "for x in \"Hello\":\n",
    "    print(x)"
   ]
  },
  {
   "cell_type": "code",
   "execution_count": 125,
   "metadata": {},
   "outputs": [
    {
     "name": "stdout",
     "output_type": "stream",
     "text": [
      "0\n",
      "1\n",
      "2\n"
     ]
    }
   ],
   "source": [
    "for x in range(3):\n",
    "    print(x)"
   ]
  },
  {
   "cell_type": "code",
   "execution_count": 126,
   "metadata": {},
   "outputs": [
    {
     "name": "stdout",
     "output_type": "stream",
     "text": [
      "2\n",
      "7\n",
      "12\n",
      "17\n",
      "22\n",
      "27\n"
     ]
    }
   ],
   "source": [
    "for x in range(2, 30, 5):\n",
    "    print(x)"
   ]
  },
  {
   "cell_type": "code",
   "execution_count": 127,
   "metadata": {},
   "outputs": [],
   "source": [
    "# Break and Continue statements work the same with for loops as well."
   ]
  },
  {
   "cell_type": "code",
   "execution_count": 128,
   "metadata": {},
   "outputs": [
    {
     "name": "stdout",
     "output_type": "stream",
     "text": [
      "a 1\n",
      "a 2\n",
      "a 3\n",
      "b 1\n",
      "b 2\n",
      "b 3\n",
      "c 1\n",
      "c 2\n",
      "c 3\n"
     ]
    }
   ],
   "source": [
    "# Finding all possible combinations in letter and num\n",
    "\n",
    "letter = [\"a\", \"b\", \"c\"]\n",
    "num = [1, 2, 3]\n",
    "                                     \n",
    "for x in letter:                     # First loop\n",
    "    for y in num:                    # Second loop\n",
    "        print(x, y)"
   ]
  },
  {
   "cell_type": "code",
   "execution_count": 129,
   "metadata": {},
   "outputs": [],
   "source": [
    "# Try this : \n",
    "# 1. Loop through both keys and values, by using the items() method\n",
    "# 2. Create a list of square of elements of a list using list comprehension "
   ]
  },
  {
   "cell_type": "markdown",
   "metadata": {},
   "source": [
    "### 06 : Exception Handling"
   ]
  },
  {
   "cell_type": "code",
   "execution_count": 18,
   "metadata": {},
   "outputs": [],
   "source": [
    "# Consider the following code :\n",
    "# x = input()\n",
    "# print(x/2)\n",
    "\n",
    "# Ideally the above code means, user provides an int/float value and returns val/2.\n",
    "# However, if the user enters a string, the result will give an error.\n",
    "\n",
    "# To handle errors, we wil use try: and except: methods."
   ]
  },
  {
   "cell_type": "code",
   "execution_count": null,
   "metadata": {},
   "outputs": [],
   "source": [
    "# Import error\n",
    "# Index error\n",
    "# Name error\n",
    "# Syntax error\n",
    "# Type error\n",
    "# Value error"
   ]
  },
  {
   "cell_type": "code",
   "execution_count": 19,
   "metadata": {},
   "outputs": [],
   "source": [
    "def div(a,b):\n",
    "    try:\n",
    "        print(a/b)\n",
    "    except ZeroDivisionError:\n",
    "        print('Denominator cannot be zero')"
   ]
  },
  {
   "cell_type": "code",
   "execution_count": 20,
   "metadata": {},
   "outputs": [
    {
     "name": "stdout",
     "output_type": "stream",
     "text": [
      "Denominator cannot be zero\n"
     ]
    }
   ],
   "source": [
    "x,y = 10,0\n",
    "div(x,y)"
   ]
  },
  {
   "cell_type": "code",
   "execution_count": 21,
   "metadata": {},
   "outputs": [
    {
     "name": "stdout",
     "output_type": "stream",
     "text": [
      "5.0\n"
     ]
    }
   ],
   "source": [
    "x,y = 10,2\n",
    "div(x,y)"
   ]
  },
  {
   "cell_type": "code",
   "execution_count": null,
   "metadata": {},
   "outputs": [],
   "source": [
    "# What if there is a value error or type error ?\n",
    "# Creating "
   ]
  },
  {
   "cell_type": "code",
   "execution_count": 22,
   "metadata": {},
   "outputs": [],
   "source": [
    "def div(a,b):\n",
    "    try:\n",
    "        print(a/b)\n",
    "    except ZeroDivisionError:\n",
    "        print('Denominator cannot be zero')\n",
    "    except ValueError:\n",
    "        print('Value error')\n",
    "    except TypeError:\n",
    "        print('Type error')\n",
    "    "
   ]
  },
  {
   "cell_type": "code",
   "execution_count": 23,
   "metadata": {},
   "outputs": [
    {
     "name": "stdout",
     "output_type": "stream",
     "text": [
      "Type error\n"
     ]
    }
   ],
   "source": [
    "x,y = 'ABC',2\n",
    "div(x,y)"
   ]
  },
  {
   "cell_type": "code",
   "execution_count": 24,
   "metadata": {},
   "outputs": [],
   "source": [
    "# Generalizing all the errors that may occur, the syntax is as follows :\n",
    "\n",
    "def div(a,b):\n",
    "    try:\n",
    "        print(a/b)\n",
    "    except:\n",
    "        print('An error has occured')"
   ]
  },
  {
   "cell_type": "code",
   "execution_count": 25,
   "metadata": {},
   "outputs": [
    {
     "name": "stdout",
     "output_type": "stream",
     "text": [
      "An error has occured\n"
     ]
    }
   ],
   "source": [
    "x,y = 'ABC',2\n",
    "div(x,y)"
   ]
  },
  {
   "cell_type": "code",
   "execution_count": 26,
   "metadata": {},
   "outputs": [
    {
     "name": "stdout",
     "output_type": "stream",
     "text": [
      "An error has occured\n"
     ]
    }
   ],
   "source": [
    "x,y = 10,0\n",
    "div(x,y)"
   ]
  },
  {
   "cell_type": "code",
   "execution_count": 27,
   "metadata": {},
   "outputs": [],
   "source": [
    "# Note : if you need to use exception handling in loops, use :\n",
    "# except :\n",
    "#     pass"
   ]
  },
  {
   "cell_type": "code",
   "execution_count": 28,
   "metadata": {},
   "outputs": [],
   "source": [
    "# try:       Test a statement \n",
    "# except:    Spot an error\n",
    "# finally:   Runs this part of code irrespective of what happens on testing statement"
   ]
  },
  {
   "cell_type": "code",
   "execution_count": 29,
   "metadata": {},
   "outputs": [],
   "source": [
    "# Generalizing all the errors that may occur, the syntax is as follows :\n",
    "\n",
    "def div(a,b):\n",
    "    try:\n",
    "        print(a/b)\n",
    "    except:\n",
    "        print('An error has occured')\n",
    "    finally:\n",
    "        print('This will run no matter what')"
   ]
  },
  {
   "cell_type": "code",
   "execution_count": 30,
   "metadata": {},
   "outputs": [
    {
     "name": "stdout",
     "output_type": "stream",
     "text": [
      "An error has occured\n",
      "This will run no matter what\n"
     ]
    }
   ],
   "source": [
    "x,y = 'ABC',2\n",
    "div(x,y)"
   ]
  },
  {
   "cell_type": "markdown",
   "metadata": {},
   "source": [
    "### 07 : Functions "
   ]
  },
  {
   "cell_type": "code",
   "execution_count": 135,
   "metadata": {},
   "outputs": [],
   "source": [
    "# Use functions, when you might have to run the same code multiple times in a program.\n",
    "# This saves memory required by the program.\n",
    "# Syntax is as follows :\n",
    "\n",
    "\n",
    "# def func_name(parameter_1, parameter_2,.....,parameter_n):\n",
    "#     statement_1\n",
    "#     statement_2\n",
    "#     statement_m\n",
    "#     return result"
   ]
  },
  {
   "cell_type": "code",
   "execution_count": 133,
   "metadata": {},
   "outputs": [],
   "source": [
    "# Example 1 :\n",
    "# Write a function that does all of the arithmetic operations on 2 given variables\n",
    "\n",
    "def all_arithmetic_op(x,y):     # This is called function initialization. \n",
    "    print('a + b :',x+y)\n",
    "    print('a - b :',x-y)\n",
    "    print('a * b :',x*y)\n",
    "    print('a / b :',x/y)\n",
    "    print('a % b :',x%y)\n",
    "    print('a // b :',x//y)\n",
    "    return                      # return() in this case is void. But it can be a result value as well."
   ]
  },
  {
   "cell_type": "code",
   "execution_count": 137,
   "metadata": {},
   "outputs": [
    {
     "name": "stdout",
     "output_type": "stream",
     "text": [
      "a + b : 15\n",
      "a - b : 5\n",
      "a * b : 50\n",
      "a / b : 2.0\n",
      "a % b : 0\n",
      "a // b : 2\n"
     ]
    }
   ],
   "source": [
    "a = 10\n",
    "b = 5\n",
    "all_arithmetic_op(a,b)          # This is called \"function call\""
   ]
  },
  {
   "cell_type": "code",
   "execution_count": null,
   "metadata": {},
   "outputs": [],
   "source": [
    "# Note : x and y are local variables, i.e, x and y do not exist outside the function.\n",
    "# In simple words, print(x) or print(y) outside the function will give an error stating \"variable not defined or declared\""
   ]
  },
  {
   "cell_type": "code",
   "execution_count": 139,
   "metadata": {},
   "outputs": [],
   "source": [
    "#Example 2 :\n",
    "\n",
    "# Write a function to create email id based on user's first and last name and employee id :\n",
    "\n",
    "def get_email_id(first, last, emp_id):\n",
    "    email_id = first + '.' + last + str(emp_id) + '@workmail.com'\n",
    "    return email_id"
   ]
  },
  {
   "cell_type": "code",
   "execution_count": 141,
   "metadata": {},
   "outputs": [
    {
     "name": "stdout",
     "output_type": "stream",
     "text": [
      "Email ID created for Pritesh Jha is : Pritesh.Jha27111993@workmail.com\n"
     ]
    }
   ],
   "source": [
    "first_name = 'Pritesh'\n",
    "last_name = 'Jha'\n",
    "employee_id = 27111993\n",
    "\n",
    "email = get_email_id(first_name,last_name,employee_id)       # Function call\n",
    "\n",
    "print('Email ID created for {} {} is :'.format(first_name, last_name), email)"
   ]
  },
  {
   "cell_type": "code",
   "execution_count": 168,
   "metadata": {},
   "outputs": [],
   "source": [
    "# Global variable vs local variable :\n",
    "\n",
    "# G.V allows the variable in a function to be used outside the function as well.\n",
    "# G.V are defined using \"global\" keyword during their initialization in the function. "
   ]
  },
  {
   "cell_type": "markdown",
   "metadata": {},
   "source": [
    "#### Recursion :"
   ]
  },
  {
   "cell_type": "code",
   "execution_count": 154,
   "metadata": {},
   "outputs": [],
   "source": [
    "# A function is a Recursive function is when the function calls itself.\n",
    "# This has the benefit that you can loop through data to reach a result.\n",
    "\n",
    "# Note : Try not to create a infinite loop when using recursion"
   ]
  },
  {
   "cell_type": "code",
   "execution_count": null,
   "metadata": {},
   "outputs": [],
   "source": [
    "# Try this first : Find factorial of a number using loops"
   ]
  },
  {
   "cell_type": "code",
   "execution_count": 159,
   "metadata": {},
   "outputs": [],
   "source": [
    "# Find Factorial of a number using recursion :\n",
    "\n",
    "def factorial(k):\n",
    "    if(k>1):\n",
    "        result = k * factorial(k-1)\n",
    "    else:\n",
    "        result = k\n",
    "    return result"
   ]
  },
  {
   "cell_type": "code",
   "execution_count": 161,
   "metadata": {},
   "outputs": [
    {
     "data": {
      "text/plain": [
       "120"
      ]
     },
     "execution_count": 161,
     "metadata": {},
     "output_type": "execute_result"
    }
   ],
   "source": [
    "factorial(5) # Factorial of 5 is : 5*4*3*2*1 = 120"
   ]
  },
  {
   "cell_type": "markdown",
   "metadata": {},
   "source": [
    "### 08 : Lambda / map / filter :"
   ]
  },
  {
   "cell_type": "markdown",
   "metadata": {},
   "source": [
    "#### Lambda :"
   ]
  },
  {
   "cell_type": "code",
   "execution_count": 29,
   "metadata": {},
   "outputs": [],
   "source": [
    "# When a function is short enough that it can be written in one line, lambdas are used.\n",
    "# Lambdas are nothing but a one-liner function.\n",
    "\n",
    "# Synatax for a function to return cube of an integer : \n",
    "# x = lambda a : a*a*a"
   ]
  },
  {
   "cell_type": "code",
   "execution_count": 35,
   "metadata": {},
   "outputs": [
    {
     "data": {
      "text/plain": [
       "100"
      ]
     },
     "execution_count": 35,
     "metadata": {},
     "output_type": "execute_result"
    }
   ],
   "source": [
    "a = 10\n",
    "lambda a : a*a*a\n",
    "x(a)"
   ]
  },
  {
   "cell_type": "code",
   "execution_count": null,
   "metadata": {},
   "outputs": [],
   "source": [
    "# Try this : write a lambda function that creates email id for the user."
   ]
  },
  {
   "cell_type": "code",
   "execution_count": 32,
   "metadata": {},
   "outputs": [],
   "source": [
    "first_name = 'Pritesh'\n",
    "last_name = 'Jha'\n",
    "employee_id = 27111993\n",
    "email = lambda first_name, last_name ,employee_id :  first_name + '.' + last_name + str(employee_id) + '@workmail.com'"
   ]
  },
  {
   "cell_type": "code",
   "execution_count": 33,
   "metadata": {},
   "outputs": [
    {
     "name": "stdout",
     "output_type": "stream",
     "text": [
      "Pritesh.Jha27111993@workmail.com\n"
     ]
    }
   ],
   "source": [
    "print(email(first_name, last_name ,employee_id))"
   ]
  },
  {
   "cell_type": "markdown",
   "metadata": {},
   "source": [
    "#### Map :"
   ]
  },
  {
   "cell_type": "code",
   "execution_count": 5,
   "metadata": {},
   "outputs": [],
   "source": [
    "# map() is used when you need to run the SAME FUNCTION to all elements of an iterable(list).\n",
    "# map() is advantageous over loops"
   ]
  },
  {
   "cell_type": "code",
   "execution_count": 7,
   "metadata": {},
   "outputs": [],
   "source": [
    "list_1 = [1,2,3,4,5,6,7,8,9]"
   ]
  },
  {
   "cell_type": "code",
   "execution_count": null,
   "metadata": {},
   "outputs": [],
   "source": [
    "# Try this first : Write a code to return cubes of all the elements in list_1 using loops."
   ]
  },
  {
   "cell_type": "code",
   "execution_count": 13,
   "metadata": {},
   "outputs": [
    {
     "name": "stdout",
     "output_type": "stream",
     "text": [
      "[1, 8, 27, 64, 125, 216, 343, 512, 729]\n"
     ]
    }
   ],
   "source": [
    "# Write a code to return cubes of all the elements in list_1 using map()\n",
    "\n",
    "def map_cube(x):\n",
    "    return x*x*x\n",
    "\n",
    "print(list( map(map_cube, list_1) ))     # Syntax of using map()"
   ]
  },
  {
   "cell_type": "markdown",
   "metadata": {},
   "source": [
    "#### Filter :"
   ]
  },
  {
   "cell_type": "code",
   "execution_count": 5,
   "metadata": {},
   "outputs": [],
   "source": [
    "# filter() is used when you need to run the SAME CONDITION to all elements of an iterable(list).\n",
    "# filter() is advantageous over using loops and if-else "
   ]
  },
  {
   "cell_type": "code",
   "execution_count": 14,
   "metadata": {},
   "outputs": [],
   "source": [
    "list_1 = [1,2,3,4,5,6,7,8,9]"
   ]
  },
  {
   "cell_type": "code",
   "execution_count": null,
   "metadata": {},
   "outputs": [],
   "source": [
    "# Try this first : Write a code to return all the elements in list_1 that are multiples of 2 using loops and if-else."
   ]
  },
  {
   "cell_type": "code",
   "execution_count": 16,
   "metadata": {},
   "outputs": [
    {
     "name": "stdout",
     "output_type": "stream",
     "text": [
      "[2, 4, 6, 8]\n"
     ]
    }
   ],
   "source": [
    "# Write a code to return cubes of all the elements in list_1 using filter()\n",
    "\n",
    "print(list( filter(lambda x: x%2==0, list_1) ))     # Syntax of using filter()"
   ]
  },
  {
   "cell_type": "markdown",
   "metadata": {},
   "source": [
    "### 09 : Class and Objects / Inheritence / Polymorphism :"
   ]
  },
  {
   "cell_type": "code",
   "execution_count": 38,
   "metadata": {},
   "outputs": [],
   "source": [
    "# Python is an object oriented programming language.\n",
    "# Everything in python is basically an \"object\" of a pre-defined class in the background.\n",
    "\n",
    "# A class contains all the objects, properties and methods.\n",
    "# All classes have a function called __init__(), which is always executed when the class is being initiated.\n"
   ]
  },
  {
   "cell_type": "code",
   "execution_count": 43,
   "metadata": {},
   "outputs": [],
   "source": [
    "class Person:                                 # Initialization\n",
    "    def __init__(self,name,age,console):      # __init__ is very important as it is used to assign values to objects,etc\n",
    "        self.name = name\n",
    "        self.age = age\n",
    "        self.console = console\n",
    "    \n",
    "# Now Creating 2 objects and assigning object properties.\n",
    "p1 = Person('Pritesh',27,'PS4')               # Object p1\n",
    "p2 = Person('Siddarath',25,'PS4')             # Object p2"
   ]
  },
  {
   "cell_type": "code",
   "execution_count": 47,
   "metadata": {},
   "outputs": [
    {
     "name": "stdout",
     "output_type": "stream",
     "text": [
      "Pritesh\n",
      "PS4\n"
     ]
    }
   ],
   "source": [
    "# Object properties can be viewed as follows :\n",
    "\n",
    "print(p1.name)\n",
    "print(p1.console)"
   ]
  },
  {
   "cell_type": "markdown",
   "metadata": {},
   "source": [
    "* Objects retain all the methods of their class."
   ]
  },
  {
   "cell_type": "code",
   "execution_count": 48,
   "metadata": {},
   "outputs": [],
   "source": [
    "# Re-writing previous code again, but adding a method this time.\n",
    "# Methods are similar to functions.\n",
    "# __init__ is very important as it is used to assign values to objects,etc"
   ]
  },
  {
   "cell_type": "code",
   "execution_count": 1,
   "metadata": {},
   "outputs": [],
   "source": [
    "class Person:                                             # Initialization\n",
    "    \n",
    "    def __init__(self,name,age,console,username):      \n",
    "        self.name = name\n",
    "        self.age = age\n",
    "        self.console = console\n",
    "        self.username = username\n",
    "        \n",
    "    def basic_profile(self):                              # Method of a class\n",
    "        print('Username for {} on console {} is : {}'.format(self.name, self.console, self.username))\n",
    "    \n",
    "    \n",
    "    \n",
    "# Now Creating 2 objects and assigning object properties.\n",
    "p1 = Person('Pritesh',27,'PS4','NightWolf')               # Object p1\n",
    "p2 = Person('Siddarath',25,'PS4','narcoleptichulk')       # Object p2"
   ]
  },
  {
   "cell_type": "code",
   "execution_count": 2,
   "metadata": {},
   "outputs": [
    {
     "name": "stdout",
     "output_type": "stream",
     "text": [
      "Username for Pritesh on console PS4 is : NightWolf\n"
     ]
    }
   ],
   "source": [
    "p1.basic_profile()                                        # calling class method "
   ]
  },
  {
   "cell_type": "markdown",
   "metadata": {},
   "source": [
    "#### Inheritance :"
   ]
  },
  {
   "cell_type": "code",
   "execution_count": 118,
   "metadata": {},
   "outputs": [],
   "source": [
    "# Child class is a subset of parent class.\n",
    "# ** Child will retain the method and properties of parent class **."
   ]
  },
  {
   "cell_type": "code",
   "execution_count": 119,
   "metadata": {},
   "outputs": [],
   "source": [
    "# Re-writing the class again"
   ]
  },
  {
   "cell_type": "code",
   "execution_count": 120,
   "metadata": {},
   "outputs": [],
   "source": [
    "class Person:                                             # Initialization of Parent class\n",
    "    \n",
    "    def __init__(self, name, age, console, username):     # Creating the __init__ constructor\n",
    "        self.name = name\n",
    "        self.age = age\n",
    "        self.console = console\n",
    "        self.username = username\n",
    "        \n",
    "    def basic_profile(self):                              # Method of a Parent class\n",
    "        print('Username for {} on console {} is : {}'.format(self.name, self.console, self.username))\n",
    "\n",
    "        "
   ]
  },
  {
   "cell_type": "code",
   "execution_count": 121,
   "metadata": {},
   "outputs": [],
   "source": [
    "class Fifa20(Person):                                     # Initialization of Child class\n",
    "    \n",
    "    def __init__(self, name, age, console, username, fav_team, fav_formation, play_style):      # Constructor __init__\n",
    "        \n",
    "        super().__init__(name, age, console, username )   # **Important**  :  super() refers to \"parent\" class Person\n",
    "                                                          # all parameters of parent class must be defined here\n",
    "        self.fav_team = fav_team\n",
    "        self.fav_formation = fav_formation\n",
    "        self.play_style = play_style\n",
    "        \n",
    "           \n",
    "            \n",
    "    def common_play(self):                                # Method of child class\n",
    "        print('{} plays with the team {} with formation : {} and prefers the : {} attacking play '.format(self.name, self.fav_team, self.fav_formation, self.play_style))\n",
    "        "
   ]
  },
  {
   "cell_type": "code",
   "execution_count": 122,
   "metadata": {},
   "outputs": [],
   "source": [
    "# Creating object of child class\n",
    "\n",
    "p1 = Person('Pritesh',27,'PS4','NightWolf')"
   ]
  },
  {
   "cell_type": "code",
   "execution_count": 123,
   "metadata": {},
   "outputs": [
    {
     "data": {
      "text/plain": [
       "'NightWolf'"
      ]
     },
     "execution_count": 123,
     "metadata": {},
     "output_type": "execute_result"
    }
   ],
   "source": [
    "p1.username"
   ]
  },
  {
   "cell_type": "code",
   "execution_count": 124,
   "metadata": {},
   "outputs": [
    {
     "name": "stdout",
     "output_type": "stream",
     "text": [
      "Username for Pritesh on console PS4 is : NightWolf\n"
     ]
    }
   ],
   "source": [
    "# Calling the parent class method :\n",
    "\n",
    "p1.basic_profile()"
   ]
  },
  {
   "cell_type": "code",
   "execution_count": 125,
   "metadata": {},
   "outputs": [],
   "source": [
    "# Creating object of child class\n",
    "\n",
    "p2 = Fifa20('Pritesh',27,'PS4','NightWolf', 'Liverpool', '4-2-3-1', 'Wings')"
   ]
  },
  {
   "cell_type": "code",
   "execution_count": 126,
   "metadata": {
    "scrolled": true
   },
   "outputs": [
    {
     "name": "stdout",
     "output_type": "stream",
     "text": [
      "Username for Pritesh on console PS4 is : NightWolf\n"
     ]
    }
   ],
   "source": [
    "# Calling the Parent class method for object of Child class:\n",
    "\n",
    "p2.basic_profile()"
   ]
  },
  {
   "cell_type": "code",
   "execution_count": 127,
   "metadata": {
    "scrolled": false
   },
   "outputs": [
    {
     "name": "stdout",
     "output_type": "stream",
     "text": [
      "Pritesh plays with the team Liverpool with formation : 4-2-3-1 and prefers the : Wings attacking play \n"
     ]
    }
   ],
   "source": [
    "# Calling the Child class method :\n",
    "\n",
    "p2.common_play()"
   ]
  },
  {
   "cell_type": "code",
   "execution_count": 128,
   "metadata": {},
   "outputs": [],
   "source": [
    "# Try this : \n",
    "# Create a multilevel class with respect to your office hierarchy.\n",
    "# Implement methods based on the project, roles and responsibilities."
   ]
  },
  {
   "cell_type": "markdown",
   "metadata": {},
   "source": [
    "### Anagrams and Regex :"
   ]
  },
  {
   "cell_type": "markdown",
   "metadata": {},
   "source": [
    "#### Anagrams :"
   ]
  },
  {
   "cell_type": "code",
   "execution_count": null,
   "metadata": {},
   "outputs": [],
   "source": [
    "# Examples of anagrams : noob - boon/oonb/bnoo/nobo/bono/oobn/nboo"
   ]
  },
  {
   "cell_type": "code",
   "execution_count": 1,
   "metadata": {},
   "outputs": [],
   "source": [
    "# Try this : Check whether two strings are anagrams or not"
   ]
  },
  {
   "cell_type": "code",
   "execution_count": 12,
   "metadata": {},
   "outputs": [],
   "source": [
    "def anagrams_check(x,y):\n",
    "    if len(x) != len(y):\n",
    "        print(\"Not anagrams due to mismatched string lengths\")\n",
    "    elif(sorted(x) != sorted(y)):\n",
    "        print(\"Not anagrams due to mismatched string\")\n",
    "    else:\n",
    "        print('{} and {} are anagrams!'.format(x,y))\n",
    "    return"
   ]
  },
  {
   "cell_type": "code",
   "execution_count": 13,
   "metadata": {},
   "outputs": [
    {
     "name": "stdout",
     "output_type": "stream",
     "text": [
      "abc and acb are anagrams!\n"
     ]
    }
   ],
   "source": [
    "anagrams_check('abc','acb')"
   ]
  },
  {
   "cell_type": "code",
   "execution_count": 58,
   "metadata": {},
   "outputs": [],
   "source": [
    "# Finding all anagrams in a list :\n",
    "\n",
    "def anagrams_check_list(l):\n",
    "    res = []\n",
    "    for i in range(0,len(l)-1):\n",
    "        x = l[i]\n",
    "        for j in range(i+1,len(l)):\n",
    "            y = l[j]\n",
    "\n",
    "            if len(x) != len(y):\n",
    "                pass\n",
    "\n",
    "            elif(sorted(x) != sorted(y)):\n",
    "                pass            \n",
    "\n",
    "            else:\n",
    "                res.append(y)\n",
    "                res.append(x)\n",
    "        \n",
    "    if len(res)>0:\n",
    "        print(sorted(res))\n",
    "    else:\n",
    "        print('There are no anagrams in the list')"
   ]
  },
  {
   "cell_type": "code",
   "execution_count": 59,
   "metadata": {},
   "outputs": [
    {
     "name": "stdout",
     "output_type": "stream",
     "text": [
      "['abc', 'abc', 'bca', 'bca', 'cba', 'cba', 'xyz', 'zxy']\n"
     ]
    }
   ],
   "source": [
    "list1 = ['abc','cba','xyz','zxy','pqr','pqrs','bca']\n",
    "\n",
    "anagrams_check_list(list1)"
   ]
  },
  {
   "cell_type": "code",
   "execution_count": 60,
   "metadata": {},
   "outputs": [
    {
     "name": "stdout",
     "output_type": "stream",
     "text": [
      "There are no anagrams in the list\n"
     ]
    }
   ],
   "source": [
    "list2 = ['abc','pqr']\n",
    "\n",
    "anagrams_check_list(list2)"
   ]
  },
  {
   "cell_type": "code",
   "execution_count": null,
   "metadata": {},
   "outputs": [],
   "source": [
    "# There are multiple other ways of finding anagrams. Find atleast two other methods of finding anagrams."
   ]
  },
  {
   "cell_type": "markdown",
   "metadata": {},
   "source": [
    "#### Regular Expression (Regex) : "
   ]
  },
  {
   "cell_type": "code",
   "execution_count": 61,
   "metadata": {},
   "outputs": [],
   "source": [
    "import re"
   ]
  },
  {
   "cell_type": "code",
   "execution_count": null,
   "metadata": {},
   "outputs": [],
   "source": [
    "# Go to : https://www.w3schools.com/python/python_regex.asp\n",
    "# Regex functions :\n",
    "# findall()   - \n",
    "# search()    -\n",
    "# split()     -\n",
    "# sub         -"
   ]
  },
  {
   "cell_type": "code",
   "execution_count": 62,
   "metadata": {},
   "outputs": [],
   "source": [
    "s = 'My name is Anthony Gonzalves. Main duniya mein akela hoon.'"
   ]
  },
  {
   "cell_type": "code",
   "execution_count": 69,
   "metadata": {},
   "outputs": [
    {
     "data": {
      "text/plain": [
       "['on', 'on', 'on']"
      ]
     },
     "execution_count": 69,
     "metadata": {},
     "output_type": "execute_result"
    }
   ],
   "source": [
    "re.findall('on',s)"
   ]
  },
  {
   "cell_type": "code",
   "execution_count": 70,
   "metadata": {},
   "outputs": [
    {
     "data": {
      "text/plain": [
       "['My name is Anth', 'y G', 'zalves. Main duniya mein akela ho', '.']"
      ]
     },
     "execution_count": 70,
     "metadata": {},
     "output_type": "execute_result"
    }
   ],
   "source": [
    "x = re.split('on',s)\n",
    "x"
   ]
  },
  {
   "cell_type": "code",
   "execution_count": 72,
   "metadata": {},
   "outputs": [
    {
     "data": {
      "text/plain": [
       "'My*name*is*Anthony*Gonzalves.*Main*duniya*mein*akela*hoon.'"
      ]
     },
     "execution_count": 72,
     "metadata": {},
     "output_type": "execute_result"
    }
   ],
   "source": [
    "x = re.sub('\\s','*',s)\n",
    "x"
   ]
  },
  {
   "cell_type": "code",
   "execution_count": 75,
   "metadata": {},
   "outputs": [
    {
     "name": "stdout",
     "output_type": "stream",
     "text": [
      "(15, 17)\n",
      "--------------\n",
      "My name is Anthony Gonzalves. Main duniya mein akela hoon.\n",
      "--------------\n",
      "on\n"
     ]
    }
   ],
   "source": [
    "x = re.search('on',s)\n",
    "\n",
    "print(x.span())\n",
    "print(\"--------------\")\n",
    "print(x.string)\n",
    "print(\"--------------\")\n",
    "print(x.group())"
   ]
  },
  {
   "cell_type": "code",
   "execution_count": null,
   "metadata": {},
   "outputs": [],
   "source": [
    "# Check Metacharacters, sets and special sequences on the following link :\n",
    "# Link : https://www.w3schools.com/python/python_regex.asp"
   ]
  },
  {
   "cell_type": "markdown",
   "metadata": {},
   "source": [
    "### File operation :"
   ]
  },
  {
   "cell_type": "code",
   "execution_count": 131,
   "metadata": {},
   "outputs": [],
   "source": [
    "# File operations consist of 4 different operations : create, read, update, delete \n",
    "# F.O can be implemented on .txt, .xls, .csv files"
   ]
  },
  {
   "cell_type": "markdown",
   "metadata": {},
   "source": [
    "#### Read Files :"
   ]
  },
  {
   "cell_type": "code",
   "execution_count": 145,
   "metadata": {},
   "outputs": [],
   "source": [
    "# The key function for working with files in Python is the open() function.\n",
    "\n",
    "# The open() function takes two parameters; filename, and mode.\n",
    "\n",
    "# There are four different methods (modes) for opening a file:\n",
    "\n",
    "#  \"r\" - Read - Default value. Opens a file for reading, error if the file does not exist\n",
    "#  \"a\" - Append - Opens a file for appending, creates the file if it does not exist\n",
    "#  \"w\" - Write - Opens a file for writing, creates the file if it does not exist\n",
    "#  \"x\" - Create - Creates the specified file, returns an error if the file exists"
   ]
  },
  {
   "cell_type": "code",
   "execution_count": 146,
   "metadata": {},
   "outputs": [],
   "source": [
    "address = \"E:\\\\Pritesh\\\\Inventories\\\\Demo\\\\\""
   ]
  },
  {
   "cell_type": "code",
   "execution_count": 147,
   "metadata": {},
   "outputs": [],
   "source": [
    "file1 = open(address + \"trial_text.txt\", \"r\")"
   ]
  },
  {
   "cell_type": "code",
   "execution_count": 148,
   "metadata": {},
   "outputs": [
    {
     "name": "stdout",
     "output_type": "stream",
     "text": [
      "My name is : Pritesh\n",
      "My age is : 27\n"
     ]
    }
   ],
   "source": [
    "file1_data = file1.read()\n",
    "print(file1_data)"
   ]
  },
  {
   "cell_type": "code",
   "execution_count": 150,
   "metadata": {},
   "outputs": [
    {
     "data": {
      "text/plain": [
       "str"
      ]
     },
     "execution_count": 150,
     "metadata": {},
     "output_type": "execute_result"
    }
   ],
   "source": [
    "type(file1_data)     "
   ]
  },
  {
   "cell_type": "code",
   "execution_count": 151,
   "metadata": {},
   "outputs": [],
   "source": [
    "# As the data from the text file has been read as String, we can implement the string operations as well."
   ]
  },
  {
   "cell_type": "code",
   "execution_count": 169,
   "metadata": {},
   "outputs": [
    {
     "data": {
      "text/plain": [
       "'MY NAME IS : PRITESH\\nMY AGE IS : 27'"
      ]
     },
     "execution_count": 169,
     "metadata": {},
     "output_type": "execute_result"
    }
   ],
   "source": [
    "file1_data.upper()"
   ]
  },
  {
   "cell_type": "code",
   "execution_count": 171,
   "metadata": {},
   "outputs": [],
   "source": [
    "file1 = open(address + \"trial_text.txt\", \"r\")"
   ]
  },
  {
   "cell_type": "code",
   "execution_count": 172,
   "metadata": {},
   "outputs": [
    {
     "data": {
      "text/plain": [
       "'My name is : Pritesh\\n'"
      ]
     },
     "execution_count": 172,
     "metadata": {},
     "output_type": "execute_result"
    }
   ],
   "source": [
    "# You can return one line by using the readline() method once:\n",
    "\n",
    "file1.readline()"
   ]
  },
  {
   "cell_type": "code",
   "execution_count": 173,
   "metadata": {},
   "outputs": [
    {
     "data": {
      "text/plain": [
       "'My age is : 27'"
      ]
     },
     "execution_count": 173,
     "metadata": {},
     "output_type": "execute_result"
    }
   ],
   "source": [
    "# The next time you run readline() method, it will read 2nd line.\n",
    "\n",
    "file1.readline()"
   ]
  },
  {
   "cell_type": "code",
   "execution_count": 174,
   "metadata": {},
   "outputs": [
    {
     "name": "stdout",
     "output_type": "stream",
     "text": [
      "My name is : Pritesh\n",
      "\n",
      "My age is : 27\n"
     ]
    }
   ],
   "source": [
    "# Hence, by looping through the lines of the file, you can read the whole file, line by line:\n",
    "file1 = open(address + \"trial_text.txt\", \"r\")\n",
    "for x in file1:\n",
    "    print(x)"
   ]
  },
  {
   "cell_type": "code",
   "execution_count": 175,
   "metadata": {},
   "outputs": [],
   "source": [
    "# Note: You should always close your files, in some cases, due to buffering, \n",
    "# changes made to a file may not show until you close the file.\n",
    "\n",
    "file1.close()"
   ]
  },
  {
   "cell_type": "markdown",
   "metadata": {},
   "source": [
    "#### Write files :"
   ]
  },
  {
   "cell_type": "code",
   "execution_count": 187,
   "metadata": {},
   "outputs": [],
   "source": [
    "# Using parameter \"a\" to append at the end of the file\n",
    "\n",
    "file1 = open(address + \"trial_text.txt\", \"a\")"
   ]
  },
  {
   "cell_type": "code",
   "execution_count": 188,
   "metadata": {},
   "outputs": [
    {
     "name": "stdout",
     "output_type": "stream",
     "text": [
      "This is the new line.This is the new line.\n"
     ]
    }
   ],
   "source": [
    "file1.write(\"This is the new line.\")                  # Writing new lines\n",
    "file1.close()                                         # Always close to update file\n",
    "\n",
    "file1 = open(address + \"trial_text.txt\", \"r\")         # Open again to see the updated file\n",
    "print(file1.read())"
   ]
  },
  {
   "cell_type": "code",
   "execution_count": 189,
   "metadata": {},
   "outputs": [],
   "source": [
    "# Note : By using write() function using \"w\" parameter in open(), you will overwrite the file.\n",
    "\n",
    "file1 = open(address + \"trial_text.txt\", \"w\")"
   ]
  },
  {
   "cell_type": "code",
   "execution_count": 190,
   "metadata": {},
   "outputs": [
    {
     "name": "stdout",
     "output_type": "stream",
     "text": [
      "This is the new line.\n"
     ]
    }
   ],
   "source": [
    "file1.write(\"This is the new line.\")                  # Writing new lines\n",
    "file1.close()                                         # Always close to update file\n",
    "\n",
    "file1 = open(address + \"trial_text.txt\", \"r\")         # Open again to see the updated file\n",
    "print(file1.read())\n",
    "file1.close()"
   ]
  },
  {
   "cell_type": "code",
   "execution_count": 191,
   "metadata": {},
   "outputs": [],
   "source": [
    "# The above output has overwritten the file_text.txt ."
   ]
  },
  {
   "cell_type": "markdown",
   "metadata": {},
   "source": [
    "#### Create :"
   ]
  },
  {
   "cell_type": "code",
   "execution_count": 193,
   "metadata": {},
   "outputs": [],
   "source": [
    "# To avoid the above problem, always create a new file (file_2) using \"x\" and append file_1 to it before using write()"
   ]
  },
  {
   "cell_type": "code",
   "execution_count": 203,
   "metadata": {},
   "outputs": [
    {
     "name": "stdout",
     "output_type": "stream",
     "text": [
      "My age is : 27This is the new line in the created file.\n"
     ]
    }
   ],
   "source": [
    "# Using parameter \"x\" to append at the end of the file\n",
    "\n",
    "file1 = open(address + \"trial_text.txt\", \"r\")\n",
    "\n",
    "try:\n",
    "    file2 = open(address + \"trial_text_new.txt\", \"x\")              # Create new file ins the same folder\n",
    "except:\n",
    "    file2 = open(address + \"trial_text_new.txt\", \"w\")              # Open the file if it exists\n",
    "\n",
    "\n",
    "for x in file1:\n",
    "    file2.write(file1.readline())                                  # Copying file1 in file2\n",
    "    \n",
    "file2.write(\"This is the new line in the created file.\")\n",
    "file2.close()                                                      # Update file2\n",
    "\n",
    "file2 = open(address + \"trial_text_new.txt\", \"r\")\n",
    "print(file2.read())\n",
    "\n",
    "file2.close()"
   ]
  },
  {
   "cell_type": "code",
   "execution_count": null,
   "metadata": {},
   "outputs": [],
   "source": []
  }
 ],
 "metadata": {
  "kernelspec": {
   "display_name": "Python 3",
   "language": "python",
   "name": "python3"
  },
  "language_info": {
   "codemirror_mode": {
    "name": "ipython",
    "version": 3
   },
   "file_extension": ".py",
   "mimetype": "text/x-python",
   "name": "python",
   "nbconvert_exporter": "python",
   "pygments_lexer": "ipython3",
   "version": "3.7.6"
  }
 },
 "nbformat": 4,
 "nbformat_minor": 4
}
